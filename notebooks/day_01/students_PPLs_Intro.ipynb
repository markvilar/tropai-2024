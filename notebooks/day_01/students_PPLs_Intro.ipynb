{
 "cells": [
  {
   "cell_type": "markdown",
   "metadata": {
    "colab_type": "text",
    "id": "view-in-github"
   },
   "source": [
    "<a href=\"https://colab.research.google.com/github/PGM-Lab/2023-ProbAI/blob/main/Day1/notebooks/students_PPLs_Intro.ipynb\" target=\"_parent\"><img src=\"https://colab.research.google.com/assets/colab-badge.svg\" alt=\"Open In Colab\"/></a>"
   ]
  },
  {
   "cell_type": "markdown",
   "metadata": {
    "id": "a75mGrGgL-0g"
   },
   "source": [
    "<img src=\"https://github.com/PGM-Lab/probai-2021-pyro/blob/main/Day1/Figures/blue.png?raw=1\" alt=\"Drawing\" width=2000 height=20>\n",
    "\n",
    "\n",
    "# Setup\n",
    "Let's begin by installing and importing the modules we'll need."
   ]
  },
  {
   "cell_type": "code",
   "execution_count": 1,
   "metadata": {},
   "outputs": [],
   "source": [
    "# Run this only if you use Google COLAB\n",
    "# Use poetry locally to setup the system, have a look at the readme file\n",
    "# NOTE: !pip install -q --upgrade pyro-ppl torch==2.1.0 graphviz"
   ]
  },
  {
   "cell_type": "code",
   "execution_count": 2,
   "metadata": {
    "colab": {
     "base_uri": "https://localhost:8080/"
    },
    "id": "7Owp2eKrL-0j",
    "outputId": "5359b6ee-c5e3-4cbc-a65b-0e4a4065c6bf",
    "tags": []
   },
   "outputs": [],
   "source": [
    "import pyro\n",
    "import torch\n",
    "import pyro.distributions as dist"
   ]
  },
  {
   "cell_type": "markdown",
   "metadata": {
    "id": "I-EvHtlvL-0k"
   },
   "source": [
    "<img src=\"https://github.com/PGM-Lab/probai-2021-pyro/blob/main/Day1/Figures/blue.png?raw=1\" alt=\"Drawing\" width=2000 height=20>\n",
    "\n",
    "\n",
    "# 1. **Pyro’s distributions** (http://docs.pyro.ai/en/stable/distributions.html) :\n",
    "\n",
    "\n",
    "Pyro provides a wide range of distributions: **Normal, Beta, Cauchy, Dirichlet, Gumbel, Poisson, Pareto, etc.**"
   ]
  },
  {
   "cell_type": "code",
   "execution_count": 3,
   "metadata": {
    "colab": {
     "base_uri": "https://localhost:8080/"
    },
    "id": "_w52OifSL-0l",
    "outputId": "5d09c33d-0575-45f1-865f-6a4d89f124a8",
    "tags": []
   },
   "outputs": [
    {
     "data": {
      "text/plain": [
       "Normal(loc: 0.0, scale: 1.0)"
      ]
     },
     "execution_count": 3,
     "metadata": {},
     "output_type": "execute_result"
    }
   ],
   "source": [
    "normal = dist.Normal(0,1)\n",
    "normal"
   ]
  },
  {
   "cell_type": "markdown",
   "metadata": {
    "id": "yOSdcF4_L-0m"
   },
   "source": [
    "\n",
    "<img src=\"https://github.com/PGM-Lab/probai-2021-pyro/blob/main/Day1/Figures/blue.png?raw=1\" alt=\"Drawing\" width=2000 height=20>\n",
    "\n",
    "Samples from the distributions are [Pytorch’s Tensor objects](https://pytorch.org/cppdocs/notes/tensor_creation.html) (i.e. multidimensional arrays).\n"
   ]
  },
  {
   "cell_type": "code",
   "execution_count": 4,
   "metadata": {
    "colab": {
     "base_uri": "https://localhost:8080/"
    },
    "id": "wloQxYMXL-0m",
    "outputId": "44407e9e-aea9-4483-efca-8b894aa07dac",
    "tags": []
   },
   "outputs": [
    {
     "data": {
      "text/plain": [
       "tensor(-0.3444)"
      ]
     },
     "execution_count": 4,
     "metadata": {},
     "output_type": "execute_result"
    }
   ],
   "source": [
    "sample = normal.sample()\n",
    "sample"
   ]
  },
  {
   "cell_type": "code",
   "execution_count": 5,
   "metadata": {
    "colab": {
     "base_uri": "https://localhost:8080/"
    },
    "id": "2h2iOp-qL-0o",
    "outputId": "ec11731d-eff6-453b-fa7e-75bd4b4c9cd3",
    "tags": []
   },
   "outputs": [
    {
     "data": {
      "text/plain": [
       "tensor([[[-0.1436,  0.7478, -0.3758, -0.4764, -0.1578],\n",
       "         [ 1.4182, -0.7353,  0.8437,  0.5090,  0.8988],\n",
       "         [-0.9514, -0.9044, -0.1276,  0.4586, -1.4999],\n",
       "         [ 1.3749,  1.6476,  0.2158, -0.9070,  0.5450]],\n",
       "\n",
       "        [[ 2.2531, -2.0380,  1.0645,  2.8515,  1.3101],\n",
       "         [ 0.5435,  0.2434, -1.0042,  0.9009,  1.7861],\n",
       "         [-0.1318, -0.1620,  0.2800, -0.3815, -1.1338],\n",
       "         [ 0.6241, -1.3161, -0.9021, -1.8331,  1.6681]],\n",
       "\n",
       "        [[-1.3994, -0.2623,  0.2736, -1.1052, -0.2377],\n",
       "         [ 0.7123, -0.2390,  0.9118,  1.5641, -0.3618],\n",
       "         [ 1.0396,  0.4384, -1.9348,  0.0409,  0.8398],\n",
       "         [ 1.2833, -2.9933,  0.8149,  0.4592, -0.8171]]])"
      ]
     },
     "execution_count": 5,
     "metadata": {},
     "output_type": "execute_result"
    }
   ],
   "source": [
    "sample = normal.sample(sample_shape=[3,4,5])\n",
    "sample"
   ]
  },
  {
   "cell_type": "markdown",
   "metadata": {
    "id": "r-0pNd9tL-0o"
   },
   "source": [
    "<img src=\"https://github.com/PGM-Lab/probai-2021-pyro/blob/main/Day1/Figures/blue.png?raw=1\" alt=\"Drawing\" width=2000 height=20>\n",
    "\n",
    "We can query the **dimensionlity** of a tensor with the ``shape`` property"
   ]
  },
  {
   "cell_type": "code",
   "execution_count": 6,
   "metadata": {
    "colab": {
     "base_uri": "https://localhost:8080/"
    },
    "id": "Dk2ebGoYL-0p",
    "outputId": "d7aabb53-70bb-49e8-aaae-c5f86a0d1798",
    "tags": []
   },
   "outputs": [
    {
     "data": {
      "text/plain": [
       "torch.Size([3, 4, 5])"
      ]
     },
     "execution_count": 6,
     "metadata": {},
     "output_type": "execute_result"
    }
   ],
   "source": [
    "sample = normal.sample(sample_shape=[3,4,5])\n",
    "sample.shape"
   ]
  },
  {
   "cell_type": "markdown",
   "metadata": {
    "id": "DsVjombqL-0p"
   },
   "source": [
    "\n",
    "<img src=\"https://github.com/PGM-Lab/probai-2021-pyro/blob/main/Day1/Figures/blue.png?raw=1\" alt=\"Drawing\" width=2000 height=20>\n",
    "\n",
    "Operations, like **log-likelihood**, are defined over tensors."
   ]
  },
  {
   "cell_type": "code",
   "execution_count": 7,
   "metadata": {
    "colab": {
     "base_uri": "https://localhost:8080/"
    },
    "id": "06G293JdL-0p",
    "outputId": "88f4423a-cb06-4250-ea23-723dd8b21be0",
    "tags": []
   },
   "outputs": [
    {
     "data": {
      "text/plain": [
       "tensor([[[-4.8666, -2.2737, -1.1699, -0.9523, -1.4975],\n",
       "         [-1.2976, -3.5941, -1.9987, -1.3198, -0.9308],\n",
       "         [-0.9413, -0.9198, -0.9475, -0.9286, -2.1729],\n",
       "         [-0.9208, -1.1388, -1.6036, -1.1644, -1.1455]],\n",
       "\n",
       "        [[-1.1786, -0.9719, -2.7595, -1.9594, -2.4357],\n",
       "         [-1.3086, -2.4235, -1.0621, -0.9462, -0.9922],\n",
       "         [-1.2899, -3.9810, -1.1178, -2.5675, -0.9788],\n",
       "         [-1.4274, -0.9342, -1.0663, -1.7729, -1.1250]],\n",
       "\n",
       "        [[-2.7132, -1.4655, -1.4349, -0.9474, -0.9388],\n",
       "         [-0.9212, -0.9294, -2.5371, -1.5080, -1.0384],\n",
       "         [-0.9515, -4.0332, -0.9834, -1.7479, -1.9050],\n",
       "         [-1.5723, -1.2322, -1.0067, -1.0529, -1.0530]]])"
      ]
     },
     "execution_count": 7,
     "metadata": {},
     "output_type": "execute_result"
    }
   ],
   "source": [
    "normal.log_prob(sample)"
   ]
  },
  {
   "cell_type": "code",
   "execution_count": 8,
   "metadata": {
    "colab": {
     "base_uri": "https://localhost:8080/"
    },
    "id": "R3v2rpRAL-0q",
    "outputId": "8859e6f9-9c28-4a83-e20c-4088d59b9817",
    "tags": []
   },
   "outputs": [
    {
     "data": {
      "text/plain": [
       "tensor(-94.0546)"
      ]
     },
     "execution_count": 8,
     "metadata": {},
     "output_type": "execute_result"
    }
   ],
   "source": [
    "torch.sum(normal.log_prob(sample))"
   ]
  },
  {
   "cell_type": "markdown",
   "metadata": {
    "id": "zErtSTzYL-0q"
   },
   "source": [
    "<img src=\"https://github.com/PGM-Lab/probai-2021-pyro/blob/main/Day1/Figures/blue.png?raw=1\" alt=\"Drawing\" width=2000 height=20>\n",
    "\n",
    "**Multiple distributions** can be embedded in single object.\n",
    "\n",
    "* Below we define **three Normal distributions with different means but the same scale** in a single object.\n"
   ]
  },
  {
   "cell_type": "code",
   "execution_count": 9,
   "metadata": {
    "colab": {
     "base_uri": "https://localhost:8080/"
    },
    "id": "VEcgGuTqL-0q",
    "outputId": "2e71ddd5-866a-4048-d73d-8b75a54ee01c",
    "tags": []
   },
   "outputs": [
    {
     "data": {
      "text/plain": [
       "Normal(loc: torch.Size([3]), scale: torch.Size([3]))"
      ]
     },
     "execution_count": 9,
     "metadata": {},
     "output_type": "execute_result"
    }
   ],
   "source": [
    "normal = dist.Normal(torch.tensor([1.,2.,3.]),1.)\n",
    "normal"
   ]
  },
  {
   "cell_type": "code",
   "execution_count": 10,
   "metadata": {
    "colab": {
     "base_uri": "https://localhost:8080/"
    },
    "id": "1cRRDgTbL-0r",
    "outputId": "b0d2e935-7a2a-4043-9ef9-3acda1577b73",
    "tags": []
   },
   "outputs": [
    {
     "data": {
      "text/plain": [
       "tensor([0.4381, 3.7702, 3.5671])"
      ]
     },
     "execution_count": 10,
     "metadata": {},
     "output_type": "execute_result"
    }
   ],
   "source": [
    "normal.sample()"
   ]
  },
  {
   "cell_type": "code",
   "execution_count": 11,
   "metadata": {
    "colab": {
     "base_uri": "https://localhost:8080/"
    },
    "id": "hji5mTnhL-0r",
    "outputId": "f11c2360-5538-43e3-f441-359f37b4b84c",
    "tags": []
   },
   "outputs": [
    {
     "data": {
      "text/plain": [
       "tensor([-1.0849, -1.0105, -1.5133])"
      ]
     },
     "execution_count": 11,
     "metadata": {},
     "output_type": "execute_result"
    }
   ],
   "source": [
    "normal.log_prob(normal.sample())"
   ]
  },
  {
   "cell_type": "markdown",
   "metadata": {
    "id": "drChKHsWJ--U"
   },
   "source": [
    "<img src=\"https://github.com/PGM-Lab/probai-2021-pyro/blob/main/Day1/Figures/blue.png?raw=1\" alt=\"Drawing\" width=2000 height=20>"
   ]
  },
  {
   "cell_type": "markdown",
   "metadata": {
    "id": "T7drVBrtzNgC"
   },
   "source": [
    "### **<span style=\"color:red\">Exercise: Open the notebook and play around</span>**\n",
    "\n",
    "* Test that everything works.\n",
    "* Play a bit with the code in Section 1 of the notebook.\n",
    "\n",
    "<img src=\"https://github.com/PGM-Lab/probai-2021-pyro/blob/main/Day1/Figures/blue.png?raw=1\" alt=\"Drawing\" width=2000 height=20>"
   ]
  },
  {
   "cell_type": "markdown",
   "metadata": {
    "id": "WV-iBl4xL-0r"
   },
   "source": [
    "# 2. **Pyro’s models** (http://pyro.ai/examples/intro_part_i.html) :\n",
    "\n",
    "\n",
    "* In Pyro, a probabilistic model is defined as a **stochastic function** (i.e. every time it is run, it returns a new sample).\n",
    "\n",
    "* Each random variable is associated with a **primitive stochastic function** using the construct ``pyro.sample(...)``.\n",
    "\n",
    "\n",
    "### 2.1 A Temperature Model\n",
    "\n",
    "\n",
    "\n",
    "As initial running example, we consider the problem of **modelling the temperature**. We first start with a simple model, where temperture is modeled using a random Normal variable."
   ]
  },
  {
   "cell_type": "code",
   "execution_count": 12,
   "metadata": {
    "colab": {
     "base_uri": "https://localhost:8080/"
    },
    "id": "kcU2EmBYL-0s",
    "outputId": "f34ce90f-ce1b-4e55-e743-ab9503197197",
    "tags": []
   },
   "outputs": [
    {
     "name": "stdout",
     "output_type": "stream",
     "text": [
      "tensor(13.4174)\n",
      "tensor(14.9490)\n"
     ]
    }
   ],
   "source": [
    "def model():\n",
    "    temp = pyro.sample('temp', dist.Normal(15.0, 2.0))\n",
    "    return temp\n",
    "\n",
    "print(model())\n",
    "print(model())"
   ]
  },
  {
   "cell_type": "markdown",
   "metadata": {
    "id": "rHvPBK6NSvcF"
   },
   "source": [
    "See how the model behaves as a stochastic function, which **returns a different value everytime it is invoked**. "
   ]
  },
  {
   "cell_type": "code",
   "execution_count": 13,
   "metadata": {
    "colab": {
     "base_uri": "https://localhost:8080/",
     "height": 80
    },
    "id": "s3AcG5ZMSvcF",
    "outputId": "f6a1050d-3e86-492f-e8b3-affb3e8508a5",
    "tags": []
   },
   "outputs": [
    {
     "data": {
      "image/svg+xml": [
       "<?xml version=\"1.0\" encoding=\"UTF-8\" standalone=\"no\"?>\n",
       "<!DOCTYPE svg PUBLIC \"-//W3C//DTD SVG 1.1//EN\"\n",
       " \"http://www.w3.org/Graphics/SVG/1.1/DTD/svg11.dtd\">\n",
       "<!-- Generated by graphviz version 2.43.0 (0)\n",
       " -->\n",
       "<!-- Title: %3 Pages: 1 -->\n",
       "<svg width=\"222pt\" height=\"44pt\"\n",
       " viewBox=\"0.00 0.00 222.45 44.00\" xmlns=\"http://www.w3.org/2000/svg\" xmlns:xlink=\"http://www.w3.org/1999/xlink\">\n",
       "<g id=\"graph0\" class=\"graph\" transform=\"scale(1 1) rotate(0) translate(4 40)\">\n",
       "<title>%3</title>\n",
       "<polygon fill=\"white\" stroke=\"transparent\" points=\"-4,4 -4,-40 218.45,-40 218.45,4 -4,4\"/>\n",
       "<!-- temp -->\n",
       "<g id=\"node1\" class=\"node\">\n",
       "<title>temp</title>\n",
       "<ellipse fill=\"white\" stroke=\"black\" cx=\"34.45\" cy=\"-18\" rx=\"34.39\" ry=\"18\"/>\n",
       "<text text-anchor=\"middle\" x=\"34.45\" y=\"-14.3\" font-family=\"Times,serif\" font-size=\"14.00\">temp</text>\n",
       "</g>\n",
       "<!-- distribution_description_node -->\n",
       "<g id=\"node2\" class=\"node\">\n",
       "<title>distribution_description_node</title>\n",
       "<text text-anchor=\"start\" x=\"94.45\" y=\"-14.3\" font-family=\"Times,serif\" font-size=\"14.00\">temp ~ Normal</text>\n",
       "</g>\n",
       "</g>\n",
       "</svg>\n"
      ],
      "text/plain": [
       "<graphviz.graphs.Digraph at 0x7f04ad29e710>"
      ]
     },
     "execution_count": 13,
     "metadata": {},
     "output_type": "execute_result"
    }
   ],
   "source": [
    "# Visualize the model\n",
    "pyro.render_model(model, render_distributions=True)"
   ]
  },
  {
   "cell_type": "markdown",
   "metadata": {
    "id": "N0pVeOVpL-0s"
   },
   "source": [
    "\n",
    "\n",
    "<img src=\"https://github.com/PGM-Lab/probai-2021-pyro/blob/main/Day1/Figures/blue.png?raw=1\" alt=\"Drawing\" width=2000 height=20>\n"
   ]
  },
  {
   "cell_type": "markdown",
   "metadata": {
    "id": "Z0biYXEVL-0s"
   },
   "source": [
    "### 2.2 A Temperature-Sensor Model"
   ]
  },
  {
   "cell_type": "markdown",
   "metadata": {
    "id": "Jp6wefVaLCnx"
   },
   "source": [
    "In Pyro, a stochastic method is defined as a **composition of primitive stochastic functions**.\n",
    "\n",
    "*The temperature Model:* \n",
    "We consider the presence of a **temperature sensor**. \n",
    "  * The temperature sensor gives **noisy observations** about the real temperature.\n",
    "  * The **error** of the sensor's measurements **is known**.\n"
   ]
  },
  {
   "cell_type": "code",
   "execution_count": 14,
   "metadata": {
    "colab": {
     "base_uri": "https://localhost:8080/",
     "height": 179
    },
    "id": "VpxheEx-L-0t",
    "outputId": "6e303de0-13fc-4e60-fd42-376381771723",
    "tags": []
   },
   "outputs": [
    {
     "data": {
      "image/svg+xml": [
       "<?xml version=\"1.0\" encoding=\"UTF-8\" standalone=\"no\"?>\n",
       "<!DOCTYPE svg PUBLIC \"-//W3C//DTD SVG 1.1//EN\"\n",
       " \"http://www.w3.org/Graphics/SVG/1.1/DTD/svg11.dtd\">\n",
       "<!-- Generated by graphviz version 2.43.0 (0)\n",
       " -->\n",
       "<!-- Title: %3 Pages: 1 -->\n",
       "<svg width=\"240pt\" height=\"118pt\"\n",
       " viewBox=\"0.00 0.00 239.60 118.00\" xmlns=\"http://www.w3.org/2000/svg\" xmlns:xlink=\"http://www.w3.org/1999/xlink\">\n",
       "<g id=\"graph0\" class=\"graph\" transform=\"scale(1 1) rotate(0) translate(4 114)\">\n",
       "<title>%3</title>\n",
       "<polygon fill=\"white\" stroke=\"transparent\" points=\"-4,4 -4,-114 235.6,-114 235.6,4 -4,4\"/>\n",
       "<!-- temp -->\n",
       "<g id=\"node1\" class=\"node\">\n",
       "<title>temp</title>\n",
       "<ellipse fill=\"white\" stroke=\"black\" cx=\"41.6\" cy=\"-91\" rx=\"34.39\" ry=\"18\"/>\n",
       "<text text-anchor=\"middle\" x=\"41.6\" y=\"-87.3\" font-family=\"Times,serif\" font-size=\"14.00\">temp</text>\n",
       "</g>\n",
       "<!-- sensor -->\n",
       "<g id=\"node2\" class=\"node\">\n",
       "<title>sensor</title>\n",
       "<ellipse fill=\"white\" stroke=\"black\" cx=\"41.6\" cy=\"-18\" rx=\"41.69\" ry=\"18\"/>\n",
       "<text text-anchor=\"middle\" x=\"41.6\" y=\"-14.3\" font-family=\"Times,serif\" font-size=\"14.00\">sensor</text>\n",
       "</g>\n",
       "<!-- temp&#45;&gt;sensor -->\n",
       "<g id=\"edge1\" class=\"edge\">\n",
       "<title>temp&#45;&gt;sensor</title>\n",
       "<path fill=\"none\" stroke=\"black\" d=\"M41.6,-72.81C41.6,-64.79 41.6,-55.05 41.6,-46.07\"/>\n",
       "<polygon fill=\"black\" stroke=\"black\" points=\"45.1,-46.03 41.6,-36.03 38.1,-46.03 45.1,-46.03\"/>\n",
       "</g>\n",
       "<!-- distribution_description_node -->\n",
       "<g id=\"node3\" class=\"node\">\n",
       "<title>distribution_description_node</title>\n",
       "<text text-anchor=\"start\" x=\"101.6\" y=\"-94.8\" font-family=\"Times,serif\" font-size=\"14.00\">temp ~ Normal</text>\n",
       "<text text-anchor=\"start\" x=\"101.6\" y=\"-79.8\" font-family=\"Times,serif\" font-size=\"14.00\">sensor ~ Normal</text>\n",
       "</g>\n",
       "</g>\n",
       "</svg>\n"
      ],
      "text/plain": [
       "<graphviz.graphs.Digraph at 0x7f04ad283d90>"
      ]
     },
     "execution_count": 14,
     "metadata": {},
     "output_type": "execute_result"
    }
   ],
   "source": [
    "def model():\n",
    "    temp = pyro.sample('temp', dist.Normal(15.0, 2.0))\n",
    "    sensor = pyro.sample('sensor', dist.Normal(temp, 1.0))\n",
    "    return (temp, sensor)\n",
    "\n",
    "# Visualize the model\n",
    "pyro.render_model(model, render_distributions=True)"
   ]
  },
  {
   "cell_type": "code",
   "execution_count": 15,
   "metadata": {
    "colab": {
     "base_uri": "https://localhost:8080/"
    },
    "id": "254UeMCwSvcG",
    "outputId": "a59131d5-63e2-4b48-ac8a-959e3d5f8c90",
    "tags": []
   },
   "outputs": [
    {
     "data": {
      "text/plain": [
       "(tensor(13.3072), tensor(13.0926))"
      ]
     },
     "execution_count": 15,
     "metadata": {},
     "output_type": "execute_result"
    }
   ],
   "source": [
    "# Sample from the model\n",
    "out1 = model()\n",
    "out1"
   ]
  },
  {
   "cell_type": "markdown",
   "metadata": {
    "id": "L5f6BGpkizCh"
   },
   "source": [
    "---\n",
    "\n",
    "<img src=\"https://github.com/PGM-Lab/probai-2021-pyro/blob/main/Day1/Figures/blue.png?raw=1\" alt=\"Drawing\" width=2000 height=20>\n"
   ]
  },
  {
   "cell_type": "markdown",
   "metadata": {
    "id": "XSXTeNtqL-0t"
   },
   "source": [
    "\n",
    "The above method defines a joint probability distribution:\n",
    "$$p(sensor, temp) = p(sensor|temp)p(temp)$$\n",
    "\n",
    "\n",
    "\n",
    "\n",
    "In this case, we have a simple dependency between the variables. But, as we are in a PPL, dependencies can be expressed in terms of complex deterministic functions (more examples later).\n",
    "\n",
    "\n",
    "\n",
    "<img src=\"https://github.com/PGM-Lab/probai-2021-pyro/blob/main/Day1/Figures/blue.png?raw=1\" alt=\"Drawing\" width=2000 height=20>\n"
   ]
  },
  {
   "cell_type": "markdown",
   "metadata": {
    "id": "CCayVyTsL-0t"
   },
   "source": [
    "# 3. **Pyro’s inference** (http://pyro.ai/examples/intro_part_ii.html) :"
   ]
  },
  {
   "cell_type": "markdown",
   "metadata": {
    "id": "QyC3v0cyL-0u"
   },
   "source": [
    "### Auxiliary inference functions\n",
    "\n",
    "To make inference on Pyro, we will use a variational inference method, which performs gradient-based optimization to solve the inference problem. More details will be given on Day 2. "
   ]
  },
  {
   "cell_type": "code",
   "execution_count": 16,
   "metadata": {
    "id": "arZOTC7gL-0u",
    "tags": []
   },
   "outputs": [],
   "source": [
    "from torch.distributions import constraints\n",
    "from pyro.optim import SGD\n",
    "from pyro.infer import Trace_ELBO\n",
    "import matplotlib.pyplot as plt\n",
    "from pyro.contrib.autoguide import AutoNormal\n",
    "\n",
    "\n",
    "# Stochastic Variational Inference\n",
    "def svi(model, obs, guide=None, num_steps = 500, plot = False, verbose=False, lr=0.01):\n",
    "    \n",
    "    torch.manual_seed(999)\n",
    "\n",
    "    pyro.clear_param_store()\n",
    "    \n",
    "    if guide is None:\n",
    "        guide = AutoNormal(model)\n",
    "    \n",
    "    svi = pyro.infer.SVI(model=model,\n",
    "                         guide=guide,\n",
    "                         optim=SGD({\"lr\": lr, \"momentum\":0.1}),\n",
    "                         loss=Trace_ELBO())\n",
    "\n",
    "    elbo, a,b  = [], [], []\n",
    "    \n",
    "    for t in range(num_steps):\n",
    "        elbo.append(-svi.step(obs))\n",
    "        if t%100==0:\n",
    "            print('Step: '+str(t)+'. ELBO: ' +str(elbo[-1]))\n",
    "            \n",
    "\n",
    "    if (plot):\n",
    "        plt.plot(elbo[2:])\n",
    "        plt.title(\"ELBO\")\n",
    "        plt.xlabel(\"step\")\n",
    "        plt.ylabel(\"ELBO\");\n",
    "        plt.show()\n",
    "        \n",
    "    if verbose:\n",
    "        print(\"Inference results:\")\n",
    "        for name, value in pyro.get_param_store().items():\n",
    "            print(name, pyro.param(name).item())"
   ]
  },
  {
   "cell_type": "markdown",
   "metadata": {
    "id": "ovLJGQtcPlBt"
   },
   "source": [
    "* To make inference in Pyro over a given model we need to define a *guide*. This *guide* must have the same signature as its counterpart model. \n",
    "\n",
    "* The guide must provide samples for those variables of the model that are not observed, again using the ``pyro.sample`` construct. \n",
    "\n",
    "* Guides are also parametrized using Pyro's parameters (``pyro.param``), so the variational inference algorithm will optimize over these parameters. \n",
    "\n",
    "* All of this will be explained in detail on Day 2."
   ]
  },
  {
   "cell_type": "markdown",
   "metadata": {
    "id": "mkkHJOFBL-0u"
   },
   "source": [
    "<img src=\"https://github.com/PGM-Lab/probai-2021-pyro/blob/main/Day1/Figures/blue.png?raw=1\" alt=\"Drawing\" width=2000 height=20>\n",
    "\n",
    "### 3.1  Conditioning on a single observation\n",
    "\n",
    "Now, we continue with the last model defined in section 2.2, and assume we have a sensor reading and we want to compute the posterior distribution over the real temperature. \n",
    "\n",
    "This can be achived by introducing **observations in the random variable** with the keyword ``obs=``."
   ]
  },
  {
   "cell_type": "code",
   "execution_count": 17,
   "metadata": {
    "id": "TSzNRm7wL-0v",
    "tags": []
   },
   "outputs": [],
   "source": [
    "#The observatons   \n",
    "obs = {'sensor': torch.tensor(18.0)}\n",
    "\n",
    "def model(obs):\n",
    "    temp = pyro.sample('temp', dist.Normal(15.0, 2.0))\n",
    "    sensor = pyro.sample('sensor', dist.Normal(temp, 0.1), obs=obs['sensor'])"
   ]
  },
  {
   "cell_type": "code",
   "execution_count": 18,
   "metadata": {
    "colab": {
     "base_uri": "https://localhost:8080/",
     "height": 179
    },
    "id": "VZ6QIi2-4jRr",
    "outputId": "4df5a720-63b6-4440-e0ee-3a3cdd593b99",
    "tags": []
   },
   "outputs": [
    {
     "data": {
      "image/svg+xml": [
       "<?xml version=\"1.0\" encoding=\"UTF-8\" standalone=\"no\"?>\n",
       "<!DOCTYPE svg PUBLIC \"-//W3C//DTD SVG 1.1//EN\"\n",
       " \"http://www.w3.org/Graphics/SVG/1.1/DTD/svg11.dtd\">\n",
       "<!-- Generated by graphviz version 2.43.0 (0)\n",
       " -->\n",
       "<!-- Title: %3 Pages: 1 -->\n",
       "<svg width=\"240pt\" height=\"118pt\"\n",
       " viewBox=\"0.00 0.00 239.60 118.00\" xmlns=\"http://www.w3.org/2000/svg\" xmlns:xlink=\"http://www.w3.org/1999/xlink\">\n",
       "<g id=\"graph0\" class=\"graph\" transform=\"scale(1 1) rotate(0) translate(4 114)\">\n",
       "<title>%3</title>\n",
       "<polygon fill=\"white\" stroke=\"transparent\" points=\"-4,4 -4,-114 235.6,-114 235.6,4 -4,4\"/>\n",
       "<!-- temp -->\n",
       "<g id=\"node1\" class=\"node\">\n",
       "<title>temp</title>\n",
       "<ellipse fill=\"white\" stroke=\"black\" cx=\"41.6\" cy=\"-91\" rx=\"34.39\" ry=\"18\"/>\n",
       "<text text-anchor=\"middle\" x=\"41.6\" y=\"-87.3\" font-family=\"Times,serif\" font-size=\"14.00\">temp</text>\n",
       "</g>\n",
       "<!-- sensor -->\n",
       "<g id=\"node2\" class=\"node\">\n",
       "<title>sensor</title>\n",
       "<ellipse fill=\"gray\" stroke=\"black\" cx=\"41.6\" cy=\"-18\" rx=\"41.69\" ry=\"18\"/>\n",
       "<text text-anchor=\"middle\" x=\"41.6\" y=\"-14.3\" font-family=\"Times,serif\" font-size=\"14.00\">sensor</text>\n",
       "</g>\n",
       "<!-- temp&#45;&gt;sensor -->\n",
       "<g id=\"edge1\" class=\"edge\">\n",
       "<title>temp&#45;&gt;sensor</title>\n",
       "<path fill=\"none\" stroke=\"black\" d=\"M41.6,-72.81C41.6,-64.79 41.6,-55.05 41.6,-46.07\"/>\n",
       "<polygon fill=\"black\" stroke=\"black\" points=\"45.1,-46.03 41.6,-36.03 38.1,-46.03 45.1,-46.03\"/>\n",
       "</g>\n",
       "<!-- distribution_description_node -->\n",
       "<g id=\"node3\" class=\"node\">\n",
       "<title>distribution_description_node</title>\n",
       "<text text-anchor=\"start\" x=\"101.6\" y=\"-94.8\" font-family=\"Times,serif\" font-size=\"14.00\">temp ~ Normal</text>\n",
       "<text text-anchor=\"start\" x=\"101.6\" y=\"-79.8\" font-family=\"Times,serif\" font-size=\"14.00\">sensor ~ Normal</text>\n",
       "</g>\n",
       "</g>\n",
       "</svg>\n"
      ],
      "text/plain": [
       "<graphviz.graphs.Digraph at 0x7f04abbd4910>"
      ]
     },
     "execution_count": 18,
     "metadata": {},
     "output_type": "execute_result"
    }
   ],
   "source": [
    "#Visualize the model\n",
    "pyro.render_model(model, model_args=(obs, ), render_distributions=True)"
   ]
  },
  {
   "cell_type": "markdown",
   "metadata": {
    "id": "nH3PgF4wL-0w"
   },
   "source": [
    "<img src=\"https://github.com/PGM-Lab/probai-2021-pyro/blob/main/Day1/Figures/blue.png?raw=1\" alt=\"Drawing\" width=2000 height=20>\n",
    "\n",
    "\n",
    "Inference is made using the previously defined auxiliary functions, ``svi`` and ``guide``. This allows us to query the **posterior probability distribution**: \n",
    "\n",
    "\n",
    "$$p(temp | sensor=18)=\\frac{p(sensor=18|temp)p(temp)}{\\int p(sensor=18|temp)p(temp) dtemp}$$\n",
    "\n"
   ]
  },
  {
   "cell_type": "code",
   "execution_count": 19,
   "metadata": {
    "colab": {
     "base_uri": "https://localhost:8080/",
     "height": 611
    },
    "id": "VObMyZQ_L-0w",
    "outputId": "3f64861d-4cb7-4078-f5ee-dafbb1476fe4",
    "tags": []
   },
   "outputs": [
    {
     "name": "stdout",
     "output_type": "stream",
     "text": [
      "Step: 0. ELBO: -16147.421895861626\n",
      "Step: 100. ELBO: -5.63810932636261\n",
      "Step: 200. ELBO: -2.748673915863037\n",
      "Step: 300. ELBO: -2.5427181720733643\n",
      "Step: 400. ELBO: -2.9723092317581177\n"
     ]
    },
    {
     "data": {
      "image/png": "[encoded data removed]",
      "text/plain": [
       "<Figure size 640x480 with 1 Axes>"
      ]
     },
     "metadata": {},
     "output_type": "display_data"
    },
    {
     "name": "stdout",
     "output_type": "stream",
     "text": [
      "P(Temperature|Sensor=18.0) = \n",
      "Normal(loc: 18.043657302856445, scale: 0.11020330339670181)\n",
      "\n"
     ]
    }
   ],
   "source": [
    "#Run inference\n",
    "svi(model,obs, plot=True)\n",
    "\n",
    "#Print results\n",
    "print(\"P(Temperature|Sensor=18.0) = \")\n",
    "print(dist.Normal(pyro.param(\"AutoNormal.locs.temp\").item(), pyro.param(\"AutoNormal.scales.temp\").item()))\n",
    "print(\"\")"
   ]
  },
  {
   "cell_type": "markdown",
   "metadata": {
    "id": "ZglqMEmSL-0w"
   },
   "source": [
    "\n",
    "* Inference is an **optimization procedure**. \n",
    "\n",
    "* The **ELBO function is maximized** during the variational inference process.\n",
    "\n",
    "<img src=\"https://github.com/PGM-Lab/probai-2021-pyro/blob/main/Day1/Figures/blue.png?raw=1\" alt=\"Drawing\" width=2000 height=20>\n"
   ]
  },
  {
   "cell_type": "markdown",
   "metadata": {
    "id": "WAbW6UoTL-0x"
   },
   "source": [
    "### 3.2  Learning from a bunch of observations\n",
    "\n",
    "* Let us assume that we have a **set of observations** of the temperature at different time steps. \n",
    "\n",
    "* Following a probabilistic modelling approach, we define a **set of random variables**.\n",
    "\n",
    "* One random variable for each **observation** using a standard ``for-loop``."
   ]
  },
  {
   "cell_type": "code",
   "execution_count": 20,
   "metadata": {
    "id": "w2bPy-D4L-0x",
    "tags": []
   },
   "outputs": [],
   "source": [
    "#The observatons   \n",
    "obs = {'sensor': torch.tensor([18., 18.7, 19.2, 17.8, 20.3, 22.4, 20.3, 21.2, 19.5, 20.1])}\n",
    "\n",
    "def model(obs):\n",
    "    for i in range(obs['sensor'].shape[0]):\n",
    "        temp = pyro.sample(f'temp_{i}', dist.Normal(15.0, 2.0))\n",
    "        sensor = pyro.sample(f'sensor_{i}', dist.Normal(temp, 1.0), obs=obs['sensor'][i])"
   ]
  },
  {
   "cell_type": "code",
   "execution_count": 21,
   "metadata": {
    "colab": {
     "base_uri": "https://localhost:8080/",
     "height": 176
    },
    "id": "6bvwNZvz4jRr",
    "outputId": "cdc7eada-9527-439f-f489-9af92c99a3e8",
    "tags": []
   },
   "outputs": [
    {
     "data": {
      "image/svg+xml": [
       "<?xml version=\"1.0\" encoding=\"UTF-8\" standalone=\"no\"?>\n",
       "<!DOCTYPE svg PUBLIC \"-//W3C//DTD SVG 1.1//EN\"\n",
       " \"http://www.w3.org/Graphics/SVG/1.1/DTD/svg11.dtd\">\n",
       "<!-- Generated by graphviz version 2.43.0 (0)\n",
       " -->\n",
       "<!-- Title: %3 Pages: 1 -->\n",
       "<svg width=\"1210pt\" height=\"116pt\"\n",
       " viewBox=\"0.00 0.00 1209.99 116.00\" xmlns=\"http://www.w3.org/2000/svg\" xmlns:xlink=\"http://www.w3.org/1999/xlink\">\n",
       "<g id=\"graph0\" class=\"graph\" transform=\"scale(1 1) rotate(0) translate(4 112)\">\n",
       "<title>%3</title>\n",
       "<polygon fill=\"white\" stroke=\"transparent\" points=\"-4,4 -4,-112 1205.99,-112 1205.99,4 -4,4\"/>\n",
       "<!-- temp_0 -->\n",
       "<g id=\"node1\" class=\"node\">\n",
       "<title>temp_0</title>\n",
       "<ellipse fill=\"white\" stroke=\"black\" cx=\"52\" cy=\"-90\" rx=\"44.69\" ry=\"18\"/>\n",
       "<text text-anchor=\"middle\" x=\"52\" y=\"-86.3\" font-family=\"Times,serif\" font-size=\"14.00\">temp_0</text>\n",
       "</g>\n",
       "<!-- sensor_0 -->\n",
       "<g id=\"node2\" class=\"node\">\n",
       "<title>sensor_0</title>\n",
       "<ellipse fill=\"gray\" stroke=\"black\" cx=\"52\" cy=\"-18\" rx=\"51.99\" ry=\"18\"/>\n",
       "<text text-anchor=\"middle\" x=\"52\" y=\"-14.3\" font-family=\"Times,serif\" font-size=\"14.00\">sensor_0</text>\n",
       "</g>\n",
       "<!-- temp_0&#45;&gt;sensor_0 -->\n",
       "<g id=\"edge1\" class=\"edge\">\n",
       "<title>temp_0&#45;&gt;sensor_0</title>\n",
       "<path fill=\"none\" stroke=\"black\" d=\"M52,-71.7C52,-63.98 52,-54.71 52,-46.11\"/>\n",
       "<polygon fill=\"black\" stroke=\"black\" points=\"55.5,-46.1 52,-36.1 48.5,-46.1 55.5,-46.1\"/>\n",
       "</g>\n",
       "<!-- temp_1 -->\n",
       "<g id=\"node3\" class=\"node\">\n",
       "<title>temp_1</title>\n",
       "<ellipse fill=\"white\" stroke=\"black\" cx=\"174\" cy=\"-90\" rx=\"44.69\" ry=\"18\"/>\n",
       "<text text-anchor=\"middle\" x=\"174\" y=\"-86.3\" font-family=\"Times,serif\" font-size=\"14.00\">temp_1</text>\n",
       "</g>\n",
       "<!-- sensor_1 -->\n",
       "<g id=\"node4\" class=\"node\">\n",
       "<title>sensor_1</title>\n",
       "<ellipse fill=\"gray\" stroke=\"black\" cx=\"174\" cy=\"-18\" rx=\"51.99\" ry=\"18\"/>\n",
       "<text text-anchor=\"middle\" x=\"174\" y=\"-14.3\" font-family=\"Times,serif\" font-size=\"14.00\">sensor_1</text>\n",
       "</g>\n",
       "<!-- temp_1&#45;&gt;sensor_1 -->\n",
       "<g id=\"edge2\" class=\"edge\">\n",
       "<title>temp_1&#45;&gt;sensor_1</title>\n",
       "<path fill=\"none\" stroke=\"black\" d=\"M174,-71.7C174,-63.98 174,-54.71 174,-46.11\"/>\n",
       "<polygon fill=\"black\" stroke=\"black\" points=\"177.5,-46.1 174,-36.1 170.5,-46.1 177.5,-46.1\"/>\n",
       "</g>\n",
       "<!-- temp_2 -->\n",
       "<g id=\"node5\" class=\"node\">\n",
       "<title>temp_2</title>\n",
       "<ellipse fill=\"white\" stroke=\"black\" cx=\"296\" cy=\"-90\" rx=\"44.69\" ry=\"18\"/>\n",
       "<text text-anchor=\"middle\" x=\"296\" y=\"-86.3\" font-family=\"Times,serif\" font-size=\"14.00\">temp_2</text>\n",
       "</g>\n",
       "<!-- sensor_2 -->\n",
       "<g id=\"node6\" class=\"node\">\n",
       "<title>sensor_2</title>\n",
       "<ellipse fill=\"gray\" stroke=\"black\" cx=\"296\" cy=\"-18\" rx=\"51.99\" ry=\"18\"/>\n",
       "<text text-anchor=\"middle\" x=\"296\" y=\"-14.3\" font-family=\"Times,serif\" font-size=\"14.00\">sensor_2</text>\n",
       "</g>\n",
       "<!-- temp_2&#45;&gt;sensor_2 -->\n",
       "<g id=\"edge3\" class=\"edge\">\n",
       "<title>temp_2&#45;&gt;sensor_2</title>\n",
       "<path fill=\"none\" stroke=\"black\" d=\"M296,-71.7C296,-63.98 296,-54.71 296,-46.11\"/>\n",
       "<polygon fill=\"black\" stroke=\"black\" points=\"299.5,-46.1 296,-36.1 292.5,-46.1 299.5,-46.1\"/>\n",
       "</g>\n",
       "<!-- temp_3 -->\n",
       "<g id=\"node7\" class=\"node\">\n",
       "<title>temp_3</title>\n",
       "<ellipse fill=\"white\" stroke=\"black\" cx=\"418\" cy=\"-90\" rx=\"44.69\" ry=\"18\"/>\n",
       "<text text-anchor=\"middle\" x=\"418\" y=\"-86.3\" font-family=\"Times,serif\" font-size=\"14.00\">temp_3</text>\n",
       "</g>\n",
       "<!-- sensor_3 -->\n",
       "<g id=\"node8\" class=\"node\">\n",
       "<title>sensor_3</title>\n",
       "<ellipse fill=\"gray\" stroke=\"black\" cx=\"418\" cy=\"-18\" rx=\"51.99\" ry=\"18\"/>\n",
       "<text text-anchor=\"middle\" x=\"418\" y=\"-14.3\" font-family=\"Times,serif\" font-size=\"14.00\">sensor_3</text>\n",
       "</g>\n",
       "<!-- temp_3&#45;&gt;sensor_3 -->\n",
       "<g id=\"edge4\" class=\"edge\">\n",
       "<title>temp_3&#45;&gt;sensor_3</title>\n",
       "<path fill=\"none\" stroke=\"black\" d=\"M418,-71.7C418,-63.98 418,-54.71 418,-46.11\"/>\n",
       "<polygon fill=\"black\" stroke=\"black\" points=\"421.5,-46.1 418,-36.1 414.5,-46.1 421.5,-46.1\"/>\n",
       "</g>\n",
       "<!-- temp_4 -->\n",
       "<g id=\"node9\" class=\"node\">\n",
       "<title>temp_4</title>\n",
       "<ellipse fill=\"white\" stroke=\"black\" cx=\"540\" cy=\"-90\" rx=\"44.69\" ry=\"18\"/>\n",
       "<text text-anchor=\"middle\" x=\"540\" y=\"-86.3\" font-family=\"Times,serif\" font-size=\"14.00\">temp_4</text>\n",
       "</g>\n",
       "<!-- sensor_4 -->\n",
       "<g id=\"node10\" class=\"node\">\n",
       "<title>sensor_4</title>\n",
       "<ellipse fill=\"gray\" stroke=\"black\" cx=\"540\" cy=\"-18\" rx=\"51.99\" ry=\"18\"/>\n",
       "<text text-anchor=\"middle\" x=\"540\" y=\"-14.3\" font-family=\"Times,serif\" font-size=\"14.00\">sensor_4</text>\n",
       "</g>\n",
       "<!-- temp_4&#45;&gt;sensor_4 -->\n",
       "<g id=\"edge5\" class=\"edge\">\n",
       "<title>temp_4&#45;&gt;sensor_4</title>\n",
       "<path fill=\"none\" stroke=\"black\" d=\"M540,-71.7C540,-63.98 540,-54.71 540,-46.11\"/>\n",
       "<polygon fill=\"black\" stroke=\"black\" points=\"543.5,-46.1 540,-36.1 536.5,-46.1 543.5,-46.1\"/>\n",
       "</g>\n",
       "<!-- temp_5 -->\n",
       "<g id=\"node11\" class=\"node\">\n",
       "<title>temp_5</title>\n",
       "<ellipse fill=\"white\" stroke=\"black\" cx=\"662\" cy=\"-90\" rx=\"44.69\" ry=\"18\"/>\n",
       "<text text-anchor=\"middle\" x=\"662\" y=\"-86.3\" font-family=\"Times,serif\" font-size=\"14.00\">temp_5</text>\n",
       "</g>\n",
       "<!-- sensor_5 -->\n",
       "<g id=\"node12\" class=\"node\">\n",
       "<title>sensor_5</title>\n",
       "<ellipse fill=\"gray\" stroke=\"black\" cx=\"662\" cy=\"-18\" rx=\"51.99\" ry=\"18\"/>\n",
       "<text text-anchor=\"middle\" x=\"662\" y=\"-14.3\" font-family=\"Times,serif\" font-size=\"14.00\">sensor_5</text>\n",
       "</g>\n",
       "<!-- temp_5&#45;&gt;sensor_5 -->\n",
       "<g id=\"edge6\" class=\"edge\">\n",
       "<title>temp_5&#45;&gt;sensor_5</title>\n",
       "<path fill=\"none\" stroke=\"black\" d=\"M662,-71.7C662,-63.98 662,-54.71 662,-46.11\"/>\n",
       "<polygon fill=\"black\" stroke=\"black\" points=\"665.5,-46.1 662,-36.1 658.5,-46.1 665.5,-46.1\"/>\n",
       "</g>\n",
       "<!-- temp_6 -->\n",
       "<g id=\"node13\" class=\"node\">\n",
       "<title>temp_6</title>\n",
       "<ellipse fill=\"white\" stroke=\"black\" cx=\"784\" cy=\"-90\" rx=\"44.69\" ry=\"18\"/>\n",
       "<text text-anchor=\"middle\" x=\"784\" y=\"-86.3\" font-family=\"Times,serif\" font-size=\"14.00\">temp_6</text>\n",
       "</g>\n",
       "<!-- sensor_6 -->\n",
       "<g id=\"node14\" class=\"node\">\n",
       "<title>sensor_6</title>\n",
       "<ellipse fill=\"gray\" stroke=\"black\" cx=\"784\" cy=\"-18\" rx=\"51.99\" ry=\"18\"/>\n",
       "<text text-anchor=\"middle\" x=\"784\" y=\"-14.3\" font-family=\"Times,serif\" font-size=\"14.00\">sensor_6</text>\n",
       "</g>\n",
       "<!-- temp_6&#45;&gt;sensor_6 -->\n",
       "<g id=\"edge7\" class=\"edge\">\n",
       "<title>temp_6&#45;&gt;sensor_6</title>\n",
       "<path fill=\"none\" stroke=\"black\" d=\"M784,-71.7C784,-63.98 784,-54.71 784,-46.11\"/>\n",
       "<polygon fill=\"black\" stroke=\"black\" points=\"787.5,-46.1 784,-36.1 780.5,-46.1 787.5,-46.1\"/>\n",
       "</g>\n",
       "<!-- temp_7 -->\n",
       "<g id=\"node15\" class=\"node\">\n",
       "<title>temp_7</title>\n",
       "<ellipse fill=\"white\" stroke=\"black\" cx=\"906\" cy=\"-90\" rx=\"44.69\" ry=\"18\"/>\n",
       "<text text-anchor=\"middle\" x=\"906\" y=\"-86.3\" font-family=\"Times,serif\" font-size=\"14.00\">temp_7</text>\n",
       "</g>\n",
       "<!-- sensor_7 -->\n",
       "<g id=\"node16\" class=\"node\">\n",
       "<title>sensor_7</title>\n",
       "<ellipse fill=\"gray\" stroke=\"black\" cx=\"906\" cy=\"-18\" rx=\"51.99\" ry=\"18\"/>\n",
       "<text text-anchor=\"middle\" x=\"906\" y=\"-14.3\" font-family=\"Times,serif\" font-size=\"14.00\">sensor_7</text>\n",
       "</g>\n",
       "<!-- temp_7&#45;&gt;sensor_7 -->\n",
       "<g id=\"edge8\" class=\"edge\">\n",
       "<title>temp_7&#45;&gt;sensor_7</title>\n",
       "<path fill=\"none\" stroke=\"black\" d=\"M906,-71.7C906,-63.98 906,-54.71 906,-46.11\"/>\n",
       "<polygon fill=\"black\" stroke=\"black\" points=\"909.5,-46.1 906,-36.1 902.5,-46.1 909.5,-46.1\"/>\n",
       "</g>\n",
       "<!-- temp_8 -->\n",
       "<g id=\"node17\" class=\"node\">\n",
       "<title>temp_8</title>\n",
       "<ellipse fill=\"white\" stroke=\"black\" cx=\"1028\" cy=\"-90\" rx=\"44.69\" ry=\"18\"/>\n",
       "<text text-anchor=\"middle\" x=\"1028\" y=\"-86.3\" font-family=\"Times,serif\" font-size=\"14.00\">temp_8</text>\n",
       "</g>\n",
       "<!-- sensor_8 -->\n",
       "<g id=\"node18\" class=\"node\">\n",
       "<title>sensor_8</title>\n",
       "<ellipse fill=\"gray\" stroke=\"black\" cx=\"1028\" cy=\"-18\" rx=\"51.99\" ry=\"18\"/>\n",
       "<text text-anchor=\"middle\" x=\"1028\" y=\"-14.3\" font-family=\"Times,serif\" font-size=\"14.00\">sensor_8</text>\n",
       "</g>\n",
       "<!-- temp_8&#45;&gt;sensor_8 -->\n",
       "<g id=\"edge9\" class=\"edge\">\n",
       "<title>temp_8&#45;&gt;sensor_8</title>\n",
       "<path fill=\"none\" stroke=\"black\" d=\"M1028,-71.7C1028,-63.98 1028,-54.71 1028,-46.11\"/>\n",
       "<polygon fill=\"black\" stroke=\"black\" points=\"1031.5,-46.1 1028,-36.1 1024.5,-46.1 1031.5,-46.1\"/>\n",
       "</g>\n",
       "<!-- temp_9 -->\n",
       "<g id=\"node19\" class=\"node\">\n",
       "<title>temp_9</title>\n",
       "<ellipse fill=\"white\" stroke=\"black\" cx=\"1150\" cy=\"-90\" rx=\"44.69\" ry=\"18\"/>\n",
       "<text text-anchor=\"middle\" x=\"1150\" y=\"-86.3\" font-family=\"Times,serif\" font-size=\"14.00\">temp_9</text>\n",
       "</g>\n",
       "<!-- sensor_9 -->\n",
       "<g id=\"node20\" class=\"node\">\n",
       "<title>sensor_9</title>\n",
       "<ellipse fill=\"gray\" stroke=\"black\" cx=\"1150\" cy=\"-18\" rx=\"51.99\" ry=\"18\"/>\n",
       "<text text-anchor=\"middle\" x=\"1150\" y=\"-14.3\" font-family=\"Times,serif\" font-size=\"14.00\">sensor_9</text>\n",
       "</g>\n",
       "<!-- temp_9&#45;&gt;sensor_9 -->\n",
       "<g id=\"edge10\" class=\"edge\">\n",
       "<title>temp_9&#45;&gt;sensor_9</title>\n",
       "<path fill=\"none\" stroke=\"black\" d=\"M1150,-71.7C1150,-63.98 1150,-54.71 1150,-46.11\"/>\n",
       "<polygon fill=\"black\" stroke=\"black\" points=\"1153.5,-46.1 1150,-36.1 1146.5,-46.1 1153.5,-46.1\"/>\n",
       "</g>\n",
       "</g>\n",
       "</svg>\n"
      ],
      "text/plain": [
       "<graphviz.graphs.Digraph at 0x7f04ab187710>"
      ]
     },
     "execution_count": 21,
     "metadata": {},
     "output_type": "execute_result"
    }
   ],
   "source": [
    "#Visualize the model\n",
    "pyro.render_model(model, model_args=(obs, ))"
   ]
  },
  {
   "cell_type": "code",
   "execution_count": 22,
   "metadata": {
    "colab": {
     "base_uri": "https://localhost:8080/"
    },
    "id": "pa9T-qOMkyGw",
    "outputId": "7a125513-3d00-409c-ae95-c2016ae14026",
    "tags": []
   },
   "outputs": [
    {
     "name": "stdout",
     "output_type": "stream",
     "text": [
      "Step: 0. ELBO: -2270.0551331043243\n",
      "Step: 100. ELBO: -191.25131690502167\n",
      "Step: 200. ELBO: -55.76117444038391\n",
      "Step: 300. ELBO: -42.96208894252777\n",
      "Step: 400. ELBO: -40.83998876810074\n",
      "Inference results:\n",
      "AutoNormal.locs.temp_0 17.427947998046875\n",
      "AutoNormal.scales.temp_0 0.8459584712982178\n",
      "AutoNormal.locs.temp_1 17.941848754882812\n",
      "AutoNormal.scales.temp_1 0.8458547592163086\n",
      "AutoNormal.locs.temp_2 18.27560806274414\n",
      "AutoNormal.scales.temp_2 0.8490453958511353\n",
      "AutoNormal.locs.temp_3 17.2302303314209\n",
      "AutoNormal.scales.temp_3 0.902186930179596\n",
      "AutoNormal.locs.temp_4 19.30435562133789\n",
      "AutoNormal.scales.temp_4 0.7995322346687317\n",
      "AutoNormal.locs.temp_5 20.94558334350586\n",
      "AutoNormal.scales.temp_5 0.9167338013648987\n",
      "AutoNormal.locs.temp_6 19.312156677246094\n",
      "AutoNormal.scales.temp_6 0.8623719215393066\n",
      "AutoNormal.locs.temp_7 19.935022354125977\n",
      "AutoNormal.scales.temp_7 0.8151288032531738\n",
      "AutoNormal.locs.temp_8 18.566059112548828\n",
      "AutoNormal.scales.temp_8 0.8957095146179199\n",
      "AutoNormal.locs.temp_9 19.039104461669922\n",
      "AutoNormal.scales.temp_9 0.8311464786529541\n"
     ]
    }
   ],
   "source": [
    "#Run inference\n",
    "svi(model, obs, verbose=True)"
   ]
  },
  {
   "cell_type": "markdown",
   "metadata": {
    "id": "fjcPTM1PL-0x"
   },
   "source": [
    "\n",
    "<img src=\"https://github.com/PGM-Lab/probai-2021-pyro/blob/main/Day1/Figures/blue.png?raw=1\" alt=\"Drawing\" width=2000 height=20>\n",
    "\n",
    "What if we do **not know the mean temperature**? \n",
    "\n",
    "* We can **infer it from the data** by, e.g., using a **maximum likelihood** approach,\n",
    "$ \\mu_{t} = \\arg\\max_\\mu \\ln p(s_1,\\ldots,s_n|\\mu) = \\arg\\max_\\mu \\ln \\prod_i \\int_{t_i} p(s_i|t_i)p(t_i|\\mu) dt_i, $ where $s_i$ and $t_i$ denote the sensor reading and the real temperature at time $i$. \n",
    "\n",
    "* The graphical model:\n",
    "<center>\n",
    "<img src=\"https://github.com/PGM-Lab/probai-2021-pyro/blob/main/Day1/Figures/PGM-Tem_sensor4.png?raw=1\" alt=\"Drawing\" width=\"200\">\n",
    "</center>\n",
    "* For now we do not consider the **underlying inference problem** We just define the model and let the **PPL's engine** make the work for us. \n",
    "\n",
    "* We use Pyro's parameters (defined as ``pyro.param``), which are free variables we can optimize. \n"
   ]
  },
  {
   "cell_type": "code",
   "execution_count": 23,
   "metadata": {
    "id": "yXEFGMkzL-0x",
    "tags": []
   },
   "outputs": [],
   "source": [
    "#The observatons   \n",
    "obs = {'sensor': torch.tensor([18., 18.7, 19.2, 17.8, 20.3, 22.4, 20.3, 21.2, 19.5, 20.1])}\n",
    "\n",
    "def model(obs):\n",
    "    mean_temp = pyro.param('mean_temp', torch.tensor(15.0))\n",
    "    for i in range(obs['sensor'].shape[0]):\n",
    "        temp = pyro.sample(f'temp_{i}', dist.Normal(mean_temp, 2.0))\n",
    "        sensor = pyro.sample(f'sensor_{i}', dist.Normal(temp, 1.0), obs=obs['sensor'][i])"
   ]
  },
  {
   "cell_type": "code",
   "execution_count": 24,
   "metadata": {
    "colab": {
     "base_uri": "https://localhost:8080/",
     "height": 244
    },
    "id": "Mu5lyrlD4jRs",
    "outputId": "5d2c8693-569d-48de-9307-d5b07b6510ae",
    "tags": []
   },
   "outputs": [
    {
     "data": {
      "image/svg+xml": [
       "<?xml version=\"1.0\" encoding=\"UTF-8\" standalone=\"no\"?>\n",
       "<!DOCTYPE svg PUBLIC \"-//W3C//DTD SVG 1.1//EN\"\n",
       " \"http://www.w3.org/Graphics/SVG/1.1/DTD/svg11.dtd\">\n",
       "<!-- Generated by graphviz version 2.43.0 (0)\n",
       " -->\n",
       "<!-- Title: %3 Pages: 1 -->\n",
       "<svg width=\"1210pt\" height=\"167pt\"\n",
       " viewBox=\"0.00 0.00 1209.99 167.00\" xmlns=\"http://www.w3.org/2000/svg\" xmlns:xlink=\"http://www.w3.org/1999/xlink\">\n",
       "<g id=\"graph0\" class=\"graph\" transform=\"scale(1 1) rotate(0) translate(4 163)\">\n",
       "<title>%3</title>\n",
       "<polygon fill=\"white\" stroke=\"transparent\" points=\"-4,4 -4,-163 1205.99,-163 1205.99,4 -4,4\"/>\n",
       "<!-- temp_0 -->\n",
       "<g id=\"node1\" class=\"node\">\n",
       "<title>temp_0</title>\n",
       "<ellipse fill=\"white\" stroke=\"black\" cx=\"66\" cy=\"-90\" rx=\"44.69\" ry=\"18\"/>\n",
       "<text text-anchor=\"middle\" x=\"66\" y=\"-86.3\" font-family=\"Times,serif\" font-size=\"14.00\">temp_0</text>\n",
       "</g>\n",
       "<!-- sensor_0 -->\n",
       "<g id=\"node2\" class=\"node\">\n",
       "<title>sensor_0</title>\n",
       "<ellipse fill=\"gray\" stroke=\"black\" cx=\"52\" cy=\"-18\" rx=\"51.99\" ry=\"18\"/>\n",
       "<text text-anchor=\"middle\" x=\"52\" y=\"-14.3\" font-family=\"Times,serif\" font-size=\"14.00\">sensor_0</text>\n",
       "</g>\n",
       "<!-- temp_0&#45;&gt;sensor_0 -->\n",
       "<g id=\"edge1\" class=\"edge\">\n",
       "<title>temp_0&#45;&gt;sensor_0</title>\n",
       "<path fill=\"none\" stroke=\"black\" d=\"M62.53,-71.7C60.99,-63.98 59.14,-54.71 57.42,-46.11\"/>\n",
       "<polygon fill=\"black\" stroke=\"black\" points=\"60.81,-45.22 55.42,-36.1 53.95,-46.6 60.81,-45.22\"/>\n",
       "</g>\n",
       "<!-- temp_1 -->\n",
       "<g id=\"node3\" class=\"node\">\n",
       "<title>temp_1</title>\n",
       "<ellipse fill=\"white\" stroke=\"black\" cx=\"181\" cy=\"-90\" rx=\"44.69\" ry=\"18\"/>\n",
       "<text text-anchor=\"middle\" x=\"181\" y=\"-86.3\" font-family=\"Times,serif\" font-size=\"14.00\">temp_1</text>\n",
       "</g>\n",
       "<!-- sensor_1 -->\n",
       "<g id=\"node4\" class=\"node\">\n",
       "<title>sensor_1</title>\n",
       "<ellipse fill=\"gray\" stroke=\"black\" cx=\"174\" cy=\"-18\" rx=\"51.99\" ry=\"18\"/>\n",
       "<text text-anchor=\"middle\" x=\"174\" y=\"-14.3\" font-family=\"Times,serif\" font-size=\"14.00\">sensor_1</text>\n",
       "</g>\n",
       "<!-- temp_1&#45;&gt;sensor_1 -->\n",
       "<g id=\"edge2\" class=\"edge\">\n",
       "<title>temp_1&#45;&gt;sensor_1</title>\n",
       "<path fill=\"none\" stroke=\"black\" d=\"M179.27,-71.7C178.49,-63.98 177.57,-54.71 176.71,-46.11\"/>\n",
       "<polygon fill=\"black\" stroke=\"black\" points=\"180.18,-45.71 175.71,-36.1 173.22,-46.4 180.18,-45.71\"/>\n",
       "</g>\n",
       "<!-- temp_2 -->\n",
       "<g id=\"node5\" class=\"node\">\n",
       "<title>temp_2</title>\n",
       "<ellipse fill=\"white\" stroke=\"black\" cx=\"303\" cy=\"-90\" rx=\"44.69\" ry=\"18\"/>\n",
       "<text text-anchor=\"middle\" x=\"303\" y=\"-86.3\" font-family=\"Times,serif\" font-size=\"14.00\">temp_2</text>\n",
       "</g>\n",
       "<!-- sensor_2 -->\n",
       "<g id=\"node6\" class=\"node\">\n",
       "<title>sensor_2</title>\n",
       "<ellipse fill=\"gray\" stroke=\"black\" cx=\"296\" cy=\"-18\" rx=\"51.99\" ry=\"18\"/>\n",
       "<text text-anchor=\"middle\" x=\"296\" y=\"-14.3\" font-family=\"Times,serif\" font-size=\"14.00\">sensor_2</text>\n",
       "</g>\n",
       "<!-- temp_2&#45;&gt;sensor_2 -->\n",
       "<g id=\"edge3\" class=\"edge\">\n",
       "<title>temp_2&#45;&gt;sensor_2</title>\n",
       "<path fill=\"none\" stroke=\"black\" d=\"M301.27,-71.7C300.49,-63.98 299.57,-54.71 298.71,-46.11\"/>\n",
       "<polygon fill=\"black\" stroke=\"black\" points=\"302.18,-45.71 297.71,-36.1 295.22,-46.4 302.18,-45.71\"/>\n",
       "</g>\n",
       "<!-- temp_3 -->\n",
       "<g id=\"node7\" class=\"node\">\n",
       "<title>temp_3</title>\n",
       "<ellipse fill=\"white\" stroke=\"black\" cx=\"425\" cy=\"-90\" rx=\"44.69\" ry=\"18\"/>\n",
       "<text text-anchor=\"middle\" x=\"425\" y=\"-86.3\" font-family=\"Times,serif\" font-size=\"14.00\">temp_3</text>\n",
       "</g>\n",
       "<!-- sensor_3 -->\n",
       "<g id=\"node8\" class=\"node\">\n",
       "<title>sensor_3</title>\n",
       "<ellipse fill=\"gray\" stroke=\"black\" cx=\"418\" cy=\"-18\" rx=\"51.99\" ry=\"18\"/>\n",
       "<text text-anchor=\"middle\" x=\"418\" y=\"-14.3\" font-family=\"Times,serif\" font-size=\"14.00\">sensor_3</text>\n",
       "</g>\n",
       "<!-- temp_3&#45;&gt;sensor_3 -->\n",
       "<g id=\"edge4\" class=\"edge\">\n",
       "<title>temp_3&#45;&gt;sensor_3</title>\n",
       "<path fill=\"none\" stroke=\"black\" d=\"M423.27,-71.7C422.49,-63.98 421.57,-54.71 420.71,-46.11\"/>\n",
       "<polygon fill=\"black\" stroke=\"black\" points=\"424.18,-45.71 419.71,-36.1 417.22,-46.4 424.18,-45.71\"/>\n",
       "</g>\n",
       "<!-- temp_4 -->\n",
       "<g id=\"node9\" class=\"node\">\n",
       "<title>temp_4</title>\n",
       "<ellipse fill=\"white\" stroke=\"black\" cx=\"543\" cy=\"-90\" rx=\"44.69\" ry=\"18\"/>\n",
       "<text text-anchor=\"middle\" x=\"543\" y=\"-86.3\" font-family=\"Times,serif\" font-size=\"14.00\">temp_4</text>\n",
       "</g>\n",
       "<!-- sensor_4 -->\n",
       "<g id=\"node10\" class=\"node\">\n",
       "<title>sensor_4</title>\n",
       "<ellipse fill=\"gray\" stroke=\"black\" cx=\"540\" cy=\"-18\" rx=\"51.99\" ry=\"18\"/>\n",
       "<text text-anchor=\"middle\" x=\"540\" y=\"-14.3\" font-family=\"Times,serif\" font-size=\"14.00\">sensor_4</text>\n",
       "</g>\n",
       "<!-- temp_4&#45;&gt;sensor_4 -->\n",
       "<g id=\"edge5\" class=\"edge\">\n",
       "<title>temp_4&#45;&gt;sensor_4</title>\n",
       "<path fill=\"none\" stroke=\"black\" d=\"M542.25,-71.7C541.92,-63.98 541.53,-54.71 541.16,-46.11\"/>\n",
       "<polygon fill=\"black\" stroke=\"black\" points=\"544.65,-45.95 540.73,-36.1 537.66,-46.25 544.65,-45.95\"/>\n",
       "</g>\n",
       "<!-- temp_5 -->\n",
       "<g id=\"node11\" class=\"node\">\n",
       "<title>temp_5</title>\n",
       "<ellipse fill=\"white\" stroke=\"black\" cx=\"658\" cy=\"-90\" rx=\"44.69\" ry=\"18\"/>\n",
       "<text text-anchor=\"middle\" x=\"658\" y=\"-86.3\" font-family=\"Times,serif\" font-size=\"14.00\">temp_5</text>\n",
       "</g>\n",
       "<!-- sensor_5 -->\n",
       "<g id=\"node12\" class=\"node\">\n",
       "<title>sensor_5</title>\n",
       "<ellipse fill=\"gray\" stroke=\"black\" cx=\"662\" cy=\"-18\" rx=\"51.99\" ry=\"18\"/>\n",
       "<text text-anchor=\"middle\" x=\"662\" y=\"-14.3\" font-family=\"Times,serif\" font-size=\"14.00\">sensor_5</text>\n",
       "</g>\n",
       "<!-- temp_5&#45;&gt;sensor_5 -->\n",
       "<g id=\"edge6\" class=\"edge\">\n",
       "<title>temp_5&#45;&gt;sensor_5</title>\n",
       "<path fill=\"none\" stroke=\"black\" d=\"M658.98,-71.7C659.42,-63.98 659.95,-54.71 660.45,-46.11\"/>\n",
       "<polygon fill=\"black\" stroke=\"black\" points=\"663.94,-46.29 661.02,-36.1 656.95,-45.89 663.94,-46.29\"/>\n",
       "</g>\n",
       "<!-- temp_6 -->\n",
       "<g id=\"node13\" class=\"node\">\n",
       "<title>temp_6</title>\n",
       "<ellipse fill=\"white\" stroke=\"black\" cx=\"776\" cy=\"-90\" rx=\"44.69\" ry=\"18\"/>\n",
       "<text text-anchor=\"middle\" x=\"776\" y=\"-86.3\" font-family=\"Times,serif\" font-size=\"14.00\">temp_6</text>\n",
       "</g>\n",
       "<!-- sensor_6 -->\n",
       "<g id=\"node14\" class=\"node\">\n",
       "<title>sensor_6</title>\n",
       "<ellipse fill=\"gray\" stroke=\"black\" cx=\"784\" cy=\"-18\" rx=\"51.99\" ry=\"18\"/>\n",
       "<text text-anchor=\"middle\" x=\"784\" y=\"-14.3\" font-family=\"Times,serif\" font-size=\"14.00\">sensor_6</text>\n",
       "</g>\n",
       "<!-- temp_6&#45;&gt;sensor_6 -->\n",
       "<g id=\"edge7\" class=\"edge\">\n",
       "<title>temp_6&#45;&gt;sensor_6</title>\n",
       "<path fill=\"none\" stroke=\"black\" d=\"M777.97,-71.7C778.85,-63.98 779.91,-54.71 780.9,-46.11\"/>\n",
       "<polygon fill=\"black\" stroke=\"black\" points=\"784.38,-46.44 782.04,-36.1 777.43,-45.64 784.38,-46.44\"/>\n",
       "</g>\n",
       "<!-- temp_7 -->\n",
       "<g id=\"node15\" class=\"node\">\n",
       "<title>temp_7</title>\n",
       "<ellipse fill=\"white\" stroke=\"black\" cx=\"896\" cy=\"-90\" rx=\"44.69\" ry=\"18\"/>\n",
       "<text text-anchor=\"middle\" x=\"896\" y=\"-86.3\" font-family=\"Times,serif\" font-size=\"14.00\">temp_7</text>\n",
       "</g>\n",
       "<!-- sensor_7 -->\n",
       "<g id=\"node16\" class=\"node\">\n",
       "<title>sensor_7</title>\n",
       "<ellipse fill=\"gray\" stroke=\"black\" cx=\"906\" cy=\"-18\" rx=\"51.99\" ry=\"18\"/>\n",
       "<text text-anchor=\"middle\" x=\"906\" y=\"-14.3\" font-family=\"Times,serif\" font-size=\"14.00\">sensor_7</text>\n",
       "</g>\n",
       "<!-- temp_7&#45;&gt;sensor_7 -->\n",
       "<g id=\"edge8\" class=\"edge\">\n",
       "<title>temp_7&#45;&gt;sensor_7</title>\n",
       "<path fill=\"none\" stroke=\"black\" d=\"M898.47,-71.7C899.57,-63.98 900.89,-54.71 902.12,-46.11\"/>\n",
       "<polygon fill=\"black\" stroke=\"black\" points=\"905.6,-46.5 903.55,-36.1 898.67,-45.51 905.6,-46.5\"/>\n",
       "</g>\n",
       "<!-- temp_8 -->\n",
       "<g id=\"node17\" class=\"node\">\n",
       "<title>temp_8</title>\n",
       "<ellipse fill=\"white\" stroke=\"black\" cx=\"1017\" cy=\"-90\" rx=\"44.69\" ry=\"18\"/>\n",
       "<text text-anchor=\"middle\" x=\"1017\" y=\"-86.3\" font-family=\"Times,serif\" font-size=\"14.00\">temp_8</text>\n",
       "</g>\n",
       "<!-- sensor_8 -->\n",
       "<g id=\"node18\" class=\"node\">\n",
       "<title>sensor_8</title>\n",
       "<ellipse fill=\"gray\" stroke=\"black\" cx=\"1028\" cy=\"-18\" rx=\"51.99\" ry=\"18\"/>\n",
       "<text text-anchor=\"middle\" x=\"1028\" y=\"-14.3\" font-family=\"Times,serif\" font-size=\"14.00\">sensor_8</text>\n",
       "</g>\n",
       "<!-- temp_8&#45;&gt;sensor_8 -->\n",
       "<g id=\"edge9\" class=\"edge\">\n",
       "<title>temp_8&#45;&gt;sensor_8</title>\n",
       "<path fill=\"none\" stroke=\"black\" d=\"M1019.71,-71.7C1020.93,-63.98 1022.38,-54.71 1023.73,-46.11\"/>\n",
       "<polygon fill=\"black\" stroke=\"black\" points=\"1027.21,-46.53 1025.31,-36.1 1020.3,-45.44 1027.21,-46.53\"/>\n",
       "</g>\n",
       "<!-- temp_9 -->\n",
       "<g id=\"node19\" class=\"node\">\n",
       "<title>temp_9</title>\n",
       "<ellipse fill=\"white\" stroke=\"black\" cx=\"1139\" cy=\"-90\" rx=\"44.69\" ry=\"18\"/>\n",
       "<text text-anchor=\"middle\" x=\"1139\" y=\"-86.3\" font-family=\"Times,serif\" font-size=\"14.00\">temp_9</text>\n",
       "</g>\n",
       "<!-- sensor_9 -->\n",
       "<g id=\"node20\" class=\"node\">\n",
       "<title>sensor_9</title>\n",
       "<ellipse fill=\"gray\" stroke=\"black\" cx=\"1150\" cy=\"-18\" rx=\"51.99\" ry=\"18\"/>\n",
       "<text text-anchor=\"middle\" x=\"1150\" y=\"-14.3\" font-family=\"Times,serif\" font-size=\"14.00\">sensor_9</text>\n",
       "</g>\n",
       "<!-- temp_9&#45;&gt;sensor_9 -->\n",
       "<g id=\"edge10\" class=\"edge\">\n",
       "<title>temp_9&#45;&gt;sensor_9</title>\n",
       "<path fill=\"none\" stroke=\"black\" d=\"M1141.71,-71.7C1142.93,-63.98 1144.38,-54.71 1145.73,-46.11\"/>\n",
       "<polygon fill=\"black\" stroke=\"black\" points=\"1149.21,-46.53 1147.31,-36.1 1142.3,-45.44 1149.21,-46.53\"/>\n",
       "</g>\n",
       "<!-- mean_temp -->\n",
       "<g id=\"node21\" class=\"node\">\n",
       "<title>mean_temp</title>\n",
       "<polygon fill=\"white\" stroke=\"transparent\" points=\"641.5,-159 558.5,-159 558.5,-144 641.5,-144 641.5,-159\"/>\n",
       "<text text-anchor=\"middle\" x=\"600\" y=\"-147.8\" font-family=\"Times,serif\" font-size=\"14.00\">mean_temp</text>\n",
       "</g>\n",
       "<!-- mean_temp&#45;&gt;temp_0 -->\n",
       "<g id=\"edge11\" class=\"edge\">\n",
       "<title>mean_temp&#45;&gt;temp_0</title>\n",
       "<path fill=\"none\" stroke=\"black\" d=\"M558.21,-149.3C475.34,-146.36 284.54,-136.78 127,-108 121.52,-107 115.83,-105.73 110.21,-104.34\"/>\n",
       "<polygon fill=\"black\" stroke=\"black\" points=\"110.82,-100.88 100.26,-101.73 109.04,-107.65 110.82,-100.88\"/>\n",
       "</g>\n",
       "<!-- mean_temp&#45;&gt;temp_1 -->\n",
       "<g id=\"edge12\" class=\"edge\">\n",
       "<title>mean_temp&#45;&gt;temp_1</title>\n",
       "<path fill=\"none\" stroke=\"black\" d=\"M558.41,-147.15C492.44,-141.47 359.91,-128.5 249,-108 241.76,-106.66 234.14,-105.01 226.73,-103.26\"/>\n",
       "<polygon fill=\"black\" stroke=\"black\" points=\"227.35,-99.81 216.81,-100.84 225.7,-106.61 227.35,-99.81\"/>\n",
       "</g>\n",
       "<!-- mean_temp&#45;&gt;temp_2 -->\n",
       "<g id=\"edge13\" class=\"edge\">\n",
       "<title>mean_temp&#45;&gt;temp_2</title>\n",
       "<path fill=\"none\" stroke=\"black\" d=\"M560.54,-143.94C514.79,-136.15 437.18,-122.4 371,-108 363.97,-106.47 356.55,-104.74 349.32,-102.98\"/>\n",
       "<polygon fill=\"black\" stroke=\"black\" points=\"350.15,-99.58 339.6,-100.59 348.47,-106.38 350.15,-99.58\"/>\n",
       "</g>\n",
       "<!-- mean_temp&#45;&gt;temp_3 -->\n",
       "<g id=\"edge14\" class=\"edge\">\n",
       "<title>mean_temp&#45;&gt;temp_3</title>\n",
       "<path fill=\"none\" stroke=\"black\" d=\"M580.6,-143.91C553.59,-134.72 503.94,-117.84 467.97,-105.61\"/>\n",
       "<polygon fill=\"black\" stroke=\"black\" points=\"468.81,-102.2 458.21,-102.29 466.55,-108.83 468.81,-102.2\"/>\n",
       "</g>\n",
       "<!-- mean_temp&#45;&gt;temp_4 -->\n",
       "<g id=\"edge15\" class=\"edge\">\n",
       "<title>mean_temp&#45;&gt;temp_4</title>\n",
       "<path fill=\"none\" stroke=\"black\" d=\"M593.46,-143.67C586.68,-136.6 575.7,-125.14 565.71,-114.71\"/>\n",
       "<polygon fill=\"black\" stroke=\"black\" points=\"568.13,-112.18 558.68,-107.38 563.07,-117.02 568.13,-112.18\"/>\n",
       "</g>\n",
       "<!-- mean_temp&#45;&gt;temp_5 -->\n",
       "<g id=\"edge16\" class=\"edge\">\n",
       "<title>mean_temp&#45;&gt;temp_5</title>\n",
       "<path fill=\"none\" stroke=\"black\" d=\"M606.65,-143.67C613.54,-136.6 624.72,-125.14 634.88,-114.71\"/>\n",
       "<polygon fill=\"black\" stroke=\"black\" points=\"637.56,-116.98 642.03,-107.38 632.54,-112.09 637.56,-116.98\"/>\n",
       "</g>\n",
       "<!-- mean_temp&#45;&gt;temp_6 -->\n",
       "<g id=\"edge17\" class=\"edge\">\n",
       "<title>mean_temp&#45;&gt;temp_6</title>\n",
       "<path fill=\"none\" stroke=\"black\" d=\"M619.5,-143.91C646.75,-134.7 696.91,-117.74 733.11,-105.5\"/>\n",
       "<polygon fill=\"black\" stroke=\"black\" points=\"734.56,-108.7 742.92,-102.18 732.32,-102.07 734.56,-108.7\"/>\n",
       "</g>\n",
       "<!-- mean_temp&#45;&gt;temp_7 -->\n",
       "<g id=\"edge18\" class=\"edge\">\n",
       "<title>mean_temp&#45;&gt;temp_7</title>\n",
       "<path fill=\"none\" stroke=\"black\" d=\"M640.05,-143.97C686.08,-136.26 763.78,-122.63 830,-108 836.52,-106.56 843.37,-104.93 850.09,-103.26\"/>\n",
       "<polygon fill=\"black\" stroke=\"black\" points=\"850.96,-106.65 859.79,-100.81 849.24,-99.86 850.96,-106.65\"/>\n",
       "</g>\n",
       "<!-- mean_temp&#45;&gt;temp_8 -->\n",
       "<g id=\"edge19\" class=\"edge\">\n",
       "<title>mean_temp&#45;&gt;temp_8</title>\n",
       "<path fill=\"none\" stroke=\"black\" d=\"M641.74,-147.17C707.63,-141.52 839.58,-128.62 950,-108 956.89,-106.71 964.13,-105.13 971.2,-103.44\"/>\n",
       "<polygon fill=\"black\" stroke=\"black\" points=\"972.5,-106.73 981.37,-100.94 970.82,-99.93 972.5,-106.73\"/>\n",
       "</g>\n",
       "<!-- mean_temp&#45;&gt;temp_9 -->\n",
       "<g id=\"edge20\" class=\"edge\">\n",
       "<title>mean_temp&#45;&gt;temp_9</title>\n",
       "<path fill=\"none\" stroke=\"black\" d=\"M641.54,-148.92C723.95,-145.3 913.74,-134.59 1071,-108 1078.25,-106.77 1085.88,-105.18 1093.29,-103.45\"/>\n",
       "<polygon fill=\"black\" stroke=\"black\" points=\"1094.32,-106.8 1103.22,-101.05 1092.68,-100 1094.32,-106.8\"/>\n",
       "</g>\n",
       "</g>\n",
       "</svg>\n"
      ],
      "text/plain": [
       "<graphviz.graphs.Digraph at 0x7f04ab193390>"
      ]
     },
     "execution_count": 24,
     "metadata": {},
     "output_type": "execute_result"
    }
   ],
   "source": [
    "#Visualize the model\n",
    "pyro.render_model(model, model_args=(obs, ), render_params=True)"
   ]
  },
  {
   "cell_type": "code",
   "execution_count": 25,
   "metadata": {
    "colab": {
     "base_uri": "https://localhost:8080/"
    },
    "id": "GEfOM8zWL-0y",
    "outputId": "77b53351-5c6e-4b4a-e89c-4fc9f5efe388",
    "tags": []
   },
   "outputs": [
    {
     "name": "stdout",
     "output_type": "stream",
     "text": [
      "Step: 0. ELBO: -2270.0551331043243\n",
      "Step: 100. ELBO: -247.77838224172592\n",
      "Step: 200. ELBO: -56.34299433231354\n",
      "Step: 300. ELBO: -23.718422383069992\n",
      "Step: 400. ELBO: -18.077348172664642\n",
      "Estimated Mean Temperature (MLE):\n",
      "19.568622589111328\n"
     ]
    }
   ],
   "source": [
    "#Run inference\n",
    "svi(model, obs)\n",
    "\n",
    "#Print results\n",
    "print(\"Estimated Mean Temperature (MLE):\")\n",
    "mle_mean_temp = pyro.param(\"mean_temp\").item() \n",
    "print(mle_mean_temp)"
   ]
  },
  {
   "cell_type": "markdown",
   "metadata": {
    "id": "tiCwbfJwL-0y"
   },
   "source": [
    "<img src=\"https://github.com/PGM-Lab/probai-2021-pyro/blob/main/Day1/Figures/blue.png?raw=1\" alt=\"Drawing\" width=2000 height=20>\n",
    "\n",
    "Instead of performing *maximum likelihood* learning, we can perform **Bayesian learning**:\n",
    "\n",
    "* We treat the unknown quantity as a **random variable**.\n",
    "\n",
    "This model can graphically be represented as follows:\n",
    "\n",
    "<center>\n",
    "<img src=\"https://github.com/PGM-Lab/probai-2021-pyro/blob/main/Day1/Figures/PGM-Tem-Sensor2.png?raw=1\" alt=\"Drawing\" width=\"200\">\n",
    "</center>\n",
    "<img src=\"https://github.com/PGM-Lab/probai-2021-pyro/blob/main/Day1/Figures/blue.png?raw=1\" alt=\"Drawing\" width=2000 height=20>\n",
    "\n"
   ]
  },
  {
   "cell_type": "code",
   "execution_count": 26,
   "metadata": {
    "id": "CaTdLm6ML-0y",
    "tags": []
   },
   "outputs": [],
   "source": [
    "#The observatons   \n",
    "obs = {'sensor': torch.tensor([18., 18.7, 19.2, 17.8, 20.3, 22.4, 20.3, 21.2, 19.5, 20.1])}\n",
    "\n",
    "def model(obs):\n",
    "    mean_temp = pyro.sample('mean_temp', dist.Normal(15.0, 2.0))\n",
    "    for i in range(obs['sensor'].shape[0]):\n",
    "        temp = pyro.sample(f'temp_{i}', dist.Normal(mean_temp, 2.0))\n",
    "        sensor = pyro.sample(f'sensor_{i}', dist.Normal(temp, 1.0), obs=obs['sensor'][i])"
   ]
  },
  {
   "cell_type": "code",
   "execution_count": 27,
   "metadata": {
    "colab": {
     "base_uri": "https://localhost:8080/",
     "height": 272
    },
    "id": "uF-4Gmyb4jRs",
    "outputId": "1ae45e5d-3015-4246-fe6c-a97611f88c89",
    "tags": []
   },
   "outputs": [
    {
     "data": {
      "image/svg+xml": [
       "<?xml version=\"1.0\" encoding=\"UTF-8\" standalone=\"no\"?>\n",
       "<!DOCTYPE svg PUBLIC \"-//W3C//DTD SVG 1.1//EN\"\n",
       " \"http://www.w3.org/Graphics/SVG/1.1/DTD/svg11.dtd\">\n",
       "<!-- Generated by graphviz version 2.43.0 (0)\n",
       " -->\n",
       "<!-- Title: %3 Pages: 1 -->\n",
       "<svg width=\"1210pt\" height=\"188pt\"\n",
       " viewBox=\"0.00 0.00 1209.99 188.00\" xmlns=\"http://www.w3.org/2000/svg\" xmlns:xlink=\"http://www.w3.org/1999/xlink\">\n",
       "<g id=\"graph0\" class=\"graph\" transform=\"scale(1 1) rotate(0) translate(4 184)\">\n",
       "<title>%3</title>\n",
       "<polygon fill=\"white\" stroke=\"transparent\" points=\"-4,4 -4,-184 1205.99,-184 1205.99,4 -4,4\"/>\n",
       "<!-- mean_temp -->\n",
       "<g id=\"node1\" class=\"node\">\n",
       "<title>mean_temp</title>\n",
       "<ellipse fill=\"white\" stroke=\"black\" cx=\"597\" cy=\"-162\" rx=\"64.19\" ry=\"18\"/>\n",
       "<text text-anchor=\"middle\" x=\"597\" y=\"-158.3\" font-family=\"Times,serif\" font-size=\"14.00\">mean_temp</text>\n",
       "</g>\n",
       "<!-- temp_0 -->\n",
       "<g id=\"node2\" class=\"node\">\n",
       "<title>temp_0</title>\n",
       "<ellipse fill=\"white\" stroke=\"black\" cx=\"66\" cy=\"-90\" rx=\"44.69\" ry=\"18\"/>\n",
       "<text text-anchor=\"middle\" x=\"66\" y=\"-86.3\" font-family=\"Times,serif\" font-size=\"14.00\">temp_0</text>\n",
       "</g>\n",
       "<!-- mean_temp&#45;&gt;temp_0 -->\n",
       "<g id=\"edge1\" class=\"edge\">\n",
       "<title>mean_temp&#45;&gt;temp_0</title>\n",
       "<path fill=\"none\" stroke=\"black\" d=\"M534.93,-157.17C444.54,-150.87 271.68,-136.13 127,-108 121.6,-106.95 115.98,-105.66 110.44,-104.27\"/>\n",
       "<polygon fill=\"black\" stroke=\"black\" points=\"111.17,-100.84 100.61,-101.68 109.38,-107.61 111.17,-100.84\"/>\n",
       "</g>\n",
       "<!-- temp_1 -->\n",
       "<g id=\"node4\" class=\"node\">\n",
       "<title>temp_1</title>\n",
       "<ellipse fill=\"white\" stroke=\"black\" cx=\"181\" cy=\"-90\" rx=\"44.69\" ry=\"18\"/>\n",
       "<text text-anchor=\"middle\" x=\"181\" y=\"-86.3\" font-family=\"Times,serif\" font-size=\"14.00\">temp_1</text>\n",
       "</g>\n",
       "<!-- mean_temp&#45;&gt;temp_1 -->\n",
       "<g id=\"edge3\" class=\"edge\">\n",
       "<title>mean_temp&#45;&gt;temp_1</title>\n",
       "<path fill=\"none\" stroke=\"black\" d=\"M539.44,-153.92C470.19,-145.01 350.56,-128.38 249,-108 241.86,-106.57 234.35,-104.88 227.02,-103.13\"/>\n",
       "<polygon fill=\"black\" stroke=\"black\" points=\"227.75,-99.7 217.2,-100.72 226.08,-106.5 227.75,-99.7\"/>\n",
       "</g>\n",
       "<!-- temp_2 -->\n",
       "<g id=\"node6\" class=\"node\">\n",
       "<title>temp_2</title>\n",
       "<ellipse fill=\"white\" stroke=\"black\" cx=\"303\" cy=\"-90\" rx=\"44.69\" ry=\"18\"/>\n",
       "<text text-anchor=\"middle\" x=\"303\" y=\"-86.3\" font-family=\"Times,serif\" font-size=\"14.00\">temp_2</text>\n",
       "</g>\n",
       "<!-- mean_temp&#45;&gt;temp_2 -->\n",
       "<g id=\"edge5\" class=\"edge\">\n",
       "<title>mean_temp&#45;&gt;temp_2</title>\n",
       "<path fill=\"none\" stroke=\"black\" d=\"M548.89,-149.93C503.11,-139.35 432.29,-122.85 371,-108 364.24,-106.36 357.12,-104.61 350.12,-102.88\"/>\n",
       "<polygon fill=\"black\" stroke=\"black\" points=\"350.58,-99.38 340.03,-100.36 348.89,-106.18 350.58,-99.38\"/>\n",
       "</g>\n",
       "<!-- temp_3 -->\n",
       "<g id=\"node8\" class=\"node\">\n",
       "<title>temp_3</title>\n",
       "<ellipse fill=\"white\" stroke=\"black\" cx=\"425\" cy=\"-90\" rx=\"44.69\" ry=\"18\"/>\n",
       "<text text-anchor=\"middle\" x=\"425\" y=\"-86.3\" font-family=\"Times,serif\" font-size=\"14.00\">temp_3</text>\n",
       "</g>\n",
       "<!-- mean_temp&#45;&gt;temp_3 -->\n",
       "<g id=\"edge7\" class=\"edge\">\n",
       "<title>mean_temp&#45;&gt;temp_3</title>\n",
       "<path fill=\"none\" stroke=\"black\" d=\"M562.19,-146.83C534.06,-135.38 494.43,-119.26 464.99,-107.28\"/>\n",
       "<polygon fill=\"black\" stroke=\"black\" points=\"466.01,-103.92 455.43,-103.39 463.38,-110.4 466.01,-103.92\"/>\n",
       "</g>\n",
       "<!-- temp_4 -->\n",
       "<g id=\"node10\" class=\"node\">\n",
       "<title>temp_4</title>\n",
       "<ellipse fill=\"white\" stroke=\"black\" cx=\"543\" cy=\"-90\" rx=\"44.69\" ry=\"18\"/>\n",
       "<text text-anchor=\"middle\" x=\"543\" y=\"-86.3\" font-family=\"Times,serif\" font-size=\"14.00\">temp_4</text>\n",
       "</g>\n",
       "<!-- mean_temp&#45;&gt;temp_4 -->\n",
       "<g id=\"edge9\" class=\"edge\">\n",
       "<title>mean_temp&#45;&gt;temp_4</title>\n",
       "<path fill=\"none\" stroke=\"black\" d=\"M583.92,-144.05C577.26,-135.42 569.04,-124.76 561.72,-115.27\"/>\n",
       "<polygon fill=\"black\" stroke=\"black\" points=\"564.45,-113.09 555.58,-107.31 558.91,-117.36 564.45,-113.09\"/>\n",
       "</g>\n",
       "<!-- temp_5 -->\n",
       "<g id=\"node12\" class=\"node\">\n",
       "<title>temp_5</title>\n",
       "<ellipse fill=\"white\" stroke=\"black\" cx=\"658\" cy=\"-90\" rx=\"44.69\" ry=\"18\"/>\n",
       "<text text-anchor=\"middle\" x=\"658\" y=\"-86.3\" font-family=\"Times,serif\" font-size=\"14.00\">temp_5</text>\n",
       "</g>\n",
       "<!-- mean_temp&#45;&gt;temp_5 -->\n",
       "<g id=\"edge11\" class=\"edge\">\n",
       "<title>mean_temp&#45;&gt;temp_5</title>\n",
       "<path fill=\"none\" stroke=\"black\" d=\"M611.45,-144.41C619.05,-135.69 628.5,-124.85 636.9,-115.21\"/>\n",
       "<polygon fill=\"black\" stroke=\"black\" points=\"639.71,-117.31 643.64,-107.47 634.43,-112.71 639.71,-117.31\"/>\n",
       "</g>\n",
       "<!-- temp_6 -->\n",
       "<g id=\"node14\" class=\"node\">\n",
       "<title>temp_6</title>\n",
       "<ellipse fill=\"white\" stroke=\"black\" cx=\"776\" cy=\"-90\" rx=\"44.69\" ry=\"18\"/>\n",
       "<text text-anchor=\"middle\" x=\"776\" y=\"-86.3\" font-family=\"Times,serif\" font-size=\"14.00\">temp_6</text>\n",
       "</g>\n",
       "<!-- mean_temp&#45;&gt;temp_6 -->\n",
       "<g id=\"edge13\" class=\"edge\">\n",
       "<title>mean_temp&#45;&gt;temp_6</title>\n",
       "<path fill=\"none\" stroke=\"black\" d=\"M632.79,-147C662.43,-135.41 704.55,-118.94 735.44,-106.86\"/>\n",
       "<polygon fill=\"black\" stroke=\"black\" points=\"737,-110.01 745.04,-103.11 734.45,-103.49 737,-110.01\"/>\n",
       "</g>\n",
       "<!-- temp_7 -->\n",
       "<g id=\"node16\" class=\"node\">\n",
       "<title>temp_7</title>\n",
       "<ellipse fill=\"white\" stroke=\"black\" cx=\"896\" cy=\"-90\" rx=\"44.69\" ry=\"18\"/>\n",
       "<text text-anchor=\"middle\" x=\"896\" y=\"-86.3\" font-family=\"Times,serif\" font-size=\"14.00\">temp_7</text>\n",
       "</g>\n",
       "<!-- mean_temp&#45;&gt;temp_7 -->\n",
       "<g id=\"edge15\" class=\"edge\">\n",
       "<title>mean_temp&#45;&gt;temp_7</title>\n",
       "<path fill=\"none\" stroke=\"black\" d=\"M646.18,-150.24C693.4,-139.8 766.7,-123.35 830,-108 836.26,-106.48 842.84,-104.84 849.33,-103.2\"/>\n",
       "<polygon fill=\"black\" stroke=\"black\" points=\"850.56,-106.49 859.39,-100.63 848.83,-99.71 850.56,-106.49\"/>\n",
       "</g>\n",
       "<!-- temp_8 -->\n",
       "<g id=\"node18\" class=\"node\">\n",
       "<title>temp_8</title>\n",
       "<ellipse fill=\"white\" stroke=\"black\" cx=\"1017\" cy=\"-90\" rx=\"44.69\" ry=\"18\"/>\n",
       "<text text-anchor=\"middle\" x=\"1017\" y=\"-86.3\" font-family=\"Times,serif\" font-size=\"14.00\">temp_8</text>\n",
       "</g>\n",
       "<!-- mean_temp&#45;&gt;temp_8 -->\n",
       "<g id=\"edge17\" class=\"edge\">\n",
       "<title>mean_temp&#45;&gt;temp_8</title>\n",
       "<path fill=\"none\" stroke=\"black\" d=\"M655.09,-154.08C725.3,-145.3 846.87,-128.77 950,-108 956.79,-106.63 963.94,-105.01 970.92,-103.33\"/>\n",
       "<polygon fill=\"black\" stroke=\"black\" points=\"972.12,-106.64 980.98,-100.84 970.44,-99.84 972.12,-106.64\"/>\n",
       "</g>\n",
       "<!-- temp_9 -->\n",
       "<g id=\"node20\" class=\"node\">\n",
       "<title>temp_9</title>\n",
       "<ellipse fill=\"white\" stroke=\"black\" cx=\"1139\" cy=\"-90\" rx=\"44.69\" ry=\"18\"/>\n",
       "<text text-anchor=\"middle\" x=\"1139\" y=\"-86.3\" font-family=\"Times,serif\" font-size=\"14.00\">temp_9</text>\n",
       "</g>\n",
       "<!-- mean_temp&#45;&gt;temp_9 -->\n",
       "<g id=\"edge19\" class=\"edge\">\n",
       "<title>mean_temp&#45;&gt;temp_9</title>\n",
       "<path fill=\"none\" stroke=\"black\" d=\"M658.73,-156.74C749.56,-149.89 924.31,-134.41 1071,-108 1078.24,-106.7 1085.86,-105.06 1093.27,-103.32\"/>\n",
       "<polygon fill=\"black\" stroke=\"black\" points=\"1094.3,-106.67 1103.19,-100.9 1092.65,-99.87 1094.3,-106.67\"/>\n",
       "</g>\n",
       "<!-- sensor_0 -->\n",
       "<g id=\"node3\" class=\"node\">\n",
       "<title>sensor_0</title>\n",
       "<ellipse fill=\"gray\" stroke=\"black\" cx=\"52\" cy=\"-18\" rx=\"51.99\" ry=\"18\"/>\n",
       "<text text-anchor=\"middle\" x=\"52\" y=\"-14.3\" font-family=\"Times,serif\" font-size=\"14.00\">sensor_0</text>\n",
       "</g>\n",
       "<!-- temp_0&#45;&gt;sensor_0 -->\n",
       "<g id=\"edge2\" class=\"edge\">\n",
       "<title>temp_0&#45;&gt;sensor_0</title>\n",
       "<path fill=\"none\" stroke=\"black\" d=\"M62.53,-71.7C60.99,-63.98 59.14,-54.71 57.42,-46.11\"/>\n",
       "<polygon fill=\"black\" stroke=\"black\" points=\"60.81,-45.22 55.42,-36.1 53.95,-46.6 60.81,-45.22\"/>\n",
       "</g>\n",
       "<!-- sensor_1 -->\n",
       "<g id=\"node5\" class=\"node\">\n",
       "<title>sensor_1</title>\n",
       "<ellipse fill=\"gray\" stroke=\"black\" cx=\"174\" cy=\"-18\" rx=\"51.99\" ry=\"18\"/>\n",
       "<text text-anchor=\"middle\" x=\"174\" y=\"-14.3\" font-family=\"Times,serif\" font-size=\"14.00\">sensor_1</text>\n",
       "</g>\n",
       "<!-- temp_1&#45;&gt;sensor_1 -->\n",
       "<g id=\"edge4\" class=\"edge\">\n",
       "<title>temp_1&#45;&gt;sensor_1</title>\n",
       "<path fill=\"none\" stroke=\"black\" d=\"M179.27,-71.7C178.49,-63.98 177.57,-54.71 176.71,-46.11\"/>\n",
       "<polygon fill=\"black\" stroke=\"black\" points=\"180.18,-45.71 175.71,-36.1 173.22,-46.4 180.18,-45.71\"/>\n",
       "</g>\n",
       "<!-- sensor_2 -->\n",
       "<g id=\"node7\" class=\"node\">\n",
       "<title>sensor_2</title>\n",
       "<ellipse fill=\"gray\" stroke=\"black\" cx=\"296\" cy=\"-18\" rx=\"51.99\" ry=\"18\"/>\n",
       "<text text-anchor=\"middle\" x=\"296\" y=\"-14.3\" font-family=\"Times,serif\" font-size=\"14.00\">sensor_2</text>\n",
       "</g>\n",
       "<!-- temp_2&#45;&gt;sensor_2 -->\n",
       "<g id=\"edge6\" class=\"edge\">\n",
       "<title>temp_2&#45;&gt;sensor_2</title>\n",
       "<path fill=\"none\" stroke=\"black\" d=\"M301.27,-71.7C300.49,-63.98 299.57,-54.71 298.71,-46.11\"/>\n",
       "<polygon fill=\"black\" stroke=\"black\" points=\"302.18,-45.71 297.71,-36.1 295.22,-46.4 302.18,-45.71\"/>\n",
       "</g>\n",
       "<!-- sensor_3 -->\n",
       "<g id=\"node9\" class=\"node\">\n",
       "<title>sensor_3</title>\n",
       "<ellipse fill=\"gray\" stroke=\"black\" cx=\"418\" cy=\"-18\" rx=\"51.99\" ry=\"18\"/>\n",
       "<text text-anchor=\"middle\" x=\"418\" y=\"-14.3\" font-family=\"Times,serif\" font-size=\"14.00\">sensor_3</text>\n",
       "</g>\n",
       "<!-- temp_3&#45;&gt;sensor_3 -->\n",
       "<g id=\"edge8\" class=\"edge\">\n",
       "<title>temp_3&#45;&gt;sensor_3</title>\n",
       "<path fill=\"none\" stroke=\"black\" d=\"M423.27,-71.7C422.49,-63.98 421.57,-54.71 420.71,-46.11\"/>\n",
       "<polygon fill=\"black\" stroke=\"black\" points=\"424.18,-45.71 419.71,-36.1 417.22,-46.4 424.18,-45.71\"/>\n",
       "</g>\n",
       "<!-- sensor_4 -->\n",
       "<g id=\"node11\" class=\"node\">\n",
       "<title>sensor_4</title>\n",
       "<ellipse fill=\"gray\" stroke=\"black\" cx=\"540\" cy=\"-18\" rx=\"51.99\" ry=\"18\"/>\n",
       "<text text-anchor=\"middle\" x=\"540\" y=\"-14.3\" font-family=\"Times,serif\" font-size=\"14.00\">sensor_4</text>\n",
       "</g>\n",
       "<!-- temp_4&#45;&gt;sensor_4 -->\n",
       "<g id=\"edge10\" class=\"edge\">\n",
       "<title>temp_4&#45;&gt;sensor_4</title>\n",
       "<path fill=\"none\" stroke=\"black\" d=\"M542.25,-71.7C541.92,-63.98 541.53,-54.71 541.16,-46.11\"/>\n",
       "<polygon fill=\"black\" stroke=\"black\" points=\"544.65,-45.95 540.73,-36.1 537.66,-46.25 544.65,-45.95\"/>\n",
       "</g>\n",
       "<!-- sensor_5 -->\n",
       "<g id=\"node13\" class=\"node\">\n",
       "<title>sensor_5</title>\n",
       "<ellipse fill=\"gray\" stroke=\"black\" cx=\"662\" cy=\"-18\" rx=\"51.99\" ry=\"18\"/>\n",
       "<text text-anchor=\"middle\" x=\"662\" y=\"-14.3\" font-family=\"Times,serif\" font-size=\"14.00\">sensor_5</text>\n",
       "</g>\n",
       "<!-- temp_5&#45;&gt;sensor_5 -->\n",
       "<g id=\"edge12\" class=\"edge\">\n",
       "<title>temp_5&#45;&gt;sensor_5</title>\n",
       "<path fill=\"none\" stroke=\"black\" d=\"M658.98,-71.7C659.42,-63.98 659.95,-54.71 660.45,-46.11\"/>\n",
       "<polygon fill=\"black\" stroke=\"black\" points=\"663.94,-46.29 661.02,-36.1 656.95,-45.89 663.94,-46.29\"/>\n",
       "</g>\n",
       "<!-- sensor_6 -->\n",
       "<g id=\"node15\" class=\"node\">\n",
       "<title>sensor_6</title>\n",
       "<ellipse fill=\"gray\" stroke=\"black\" cx=\"784\" cy=\"-18\" rx=\"51.99\" ry=\"18\"/>\n",
       "<text text-anchor=\"middle\" x=\"784\" y=\"-14.3\" font-family=\"Times,serif\" font-size=\"14.00\">sensor_6</text>\n",
       "</g>\n",
       "<!-- temp_6&#45;&gt;sensor_6 -->\n",
       "<g id=\"edge14\" class=\"edge\">\n",
       "<title>temp_6&#45;&gt;sensor_6</title>\n",
       "<path fill=\"none\" stroke=\"black\" d=\"M777.97,-71.7C778.85,-63.98 779.91,-54.71 780.9,-46.11\"/>\n",
       "<polygon fill=\"black\" stroke=\"black\" points=\"784.38,-46.44 782.04,-36.1 777.43,-45.64 784.38,-46.44\"/>\n",
       "</g>\n",
       "<!-- sensor_7 -->\n",
       "<g id=\"node17\" class=\"node\">\n",
       "<title>sensor_7</title>\n",
       "<ellipse fill=\"gray\" stroke=\"black\" cx=\"906\" cy=\"-18\" rx=\"51.99\" ry=\"18\"/>\n",
       "<text text-anchor=\"middle\" x=\"906\" y=\"-14.3\" font-family=\"Times,serif\" font-size=\"14.00\">sensor_7</text>\n",
       "</g>\n",
       "<!-- temp_7&#45;&gt;sensor_7 -->\n",
       "<g id=\"edge16\" class=\"edge\">\n",
       "<title>temp_7&#45;&gt;sensor_7</title>\n",
       "<path fill=\"none\" stroke=\"black\" d=\"M898.47,-71.7C899.57,-63.98 900.89,-54.71 902.12,-46.11\"/>\n",
       "<polygon fill=\"black\" stroke=\"black\" points=\"905.6,-46.5 903.55,-36.1 898.67,-45.51 905.6,-46.5\"/>\n",
       "</g>\n",
       "<!-- sensor_8 -->\n",
       "<g id=\"node19\" class=\"node\">\n",
       "<title>sensor_8</title>\n",
       "<ellipse fill=\"gray\" stroke=\"black\" cx=\"1028\" cy=\"-18\" rx=\"51.99\" ry=\"18\"/>\n",
       "<text text-anchor=\"middle\" x=\"1028\" y=\"-14.3\" font-family=\"Times,serif\" font-size=\"14.00\">sensor_8</text>\n",
       "</g>\n",
       "<!-- temp_8&#45;&gt;sensor_8 -->\n",
       "<g id=\"edge18\" class=\"edge\">\n",
       "<title>temp_8&#45;&gt;sensor_8</title>\n",
       "<path fill=\"none\" stroke=\"black\" d=\"M1019.71,-71.7C1020.93,-63.98 1022.38,-54.71 1023.73,-46.11\"/>\n",
       "<polygon fill=\"black\" stroke=\"black\" points=\"1027.21,-46.53 1025.31,-36.1 1020.3,-45.44 1027.21,-46.53\"/>\n",
       "</g>\n",
       "<!-- sensor_9 -->\n",
       "<g id=\"node21\" class=\"node\">\n",
       "<title>sensor_9</title>\n",
       "<ellipse fill=\"gray\" stroke=\"black\" cx=\"1150\" cy=\"-18\" rx=\"51.99\" ry=\"18\"/>\n",
       "<text text-anchor=\"middle\" x=\"1150\" y=\"-14.3\" font-family=\"Times,serif\" font-size=\"14.00\">sensor_9</text>\n",
       "</g>\n",
       "<!-- temp_9&#45;&gt;sensor_9 -->\n",
       "<g id=\"edge20\" class=\"edge\">\n",
       "<title>temp_9&#45;&gt;sensor_9</title>\n",
       "<path fill=\"none\" stroke=\"black\" d=\"M1141.71,-71.7C1142.93,-63.98 1144.38,-54.71 1145.73,-46.11\"/>\n",
       "<polygon fill=\"black\" stroke=\"black\" points=\"1149.21,-46.53 1147.31,-36.1 1142.3,-45.44 1149.21,-46.53\"/>\n",
       "</g>\n",
       "</g>\n",
       "</svg>\n"
      ],
      "text/plain": [
       "<graphviz.graphs.Digraph at 0x7f04ad275790>"
      ]
     },
     "execution_count": 27,
     "metadata": {},
     "output_type": "execute_result"
    }
   ],
   "source": [
    "#Visualize the model\n",
    "pyro.render_model(model, model_args=(obs, ))"
   ]
  },
  {
   "cell_type": "markdown",
   "metadata": {
    "id": "jJfVNZFBL-0y"
   },
   "source": [
    "---\n",
    "<img src=\"https://github.com/PGM-Lab/probai-2021-pyro/blob/main/Day1/Figures/blue.png?raw=1\" alt=\"Drawing\" width=2000 height=20>\n",
    "\n",
    "We perform inference over this model:\n",
    "\n",
    " $$ p(\\mu_t | s_1,\\ldots, s_n)=\\frac{p(\\mu_t)\\prod_{i=1}^n \\int p(s_i|t_i)p(t_i|\\mu_t)dt_i }{\\int \\prod_{i=1}^n p(s_i|\\mu_t)p(\\mu_t) d\\mu} $$\n"
   ]
  },
  {
   "cell_type": "code",
   "execution_count": 28,
   "metadata": {
    "colab": {
     "base_uri": "https://localhost:8080/"
    },
    "id": "W0YiqM36L-0z",
    "outputId": "1c49a807-29b5-4d8c-e2d4-c6aa98524618",
    "tags": []
   },
   "outputs": [
    {
     "name": "stdout",
     "output_type": "stream",
     "text": [
      "Step: 0. ELBO: -2015.5953184366226\n",
      "Step: 100. ELBO: -286.36370718479156\n",
      "Step: 200. ELBO: -57.62918412685394\n",
      "Step: 300. ELBO: -25.598896622657776\n",
      "Step: 400. ELBO: -23.29997143149376\n",
      "P(mean_temp|Sensor=[18., 18.7, 19.2, 17.8, 20.3, 22.4, 20.3, 21.2, 19.5, 20.1]) =\n",
      "Normal(loc: 19.180583953857422, scale: 0.6147986650466919)\n",
      "\n",
      "4.987810373306274 seconds\n"
     ]
    }
   ],
   "source": [
    "import time\n",
    "        \n",
    "#Run inference\n",
    "start = time.time()\n",
    "svi(model, obs)\n",
    "\n",
    "#Print results\n",
    "print(\"P(mean_temp|Sensor=[18., 18.7, 19.2, 17.8, 20.3, 22.4, 20.3, 21.2, 19.5, 20.1]) =\")\n",
    "print(dist.Normal(pyro.param(\"AutoNormal.locs.mean_temp\").item(), pyro.param(\"AutoNormal.scales.mean_temp\").item()))\n",
    "print(\"\")\n",
    "end = time.time()\n",
    "print(f\"{(end - start)} seconds\")"
   ]
  },
  {
   "cell_type": "markdown",
   "metadata": {
    "id": "YFKoGLcnL-0z"
   },
   "source": [
    "---\n",
    "* Observe that the result of the learning is **not a point estimate**.\n",
    "\n",
    "* We have a **posterior distribution** which captures **uncertainty** about the estimation.\n",
    "\n",
    "---"
   ]
  },
  {
   "cell_type": "code",
   "execution_count": 29,
   "metadata": {
    "colab": {
     "base_uri": "https://localhost:8080/",
     "height": 430
    },
    "id": "ES_yHXNKL-0z",
    "outputId": "e81f65cd-1fe5-4d4b-95a7-4f8c820d0442",
    "tags": []
   },
   "outputs": [
    {
     "data": {
      "image/png": "[encoded data removed]",
      "text/plain": [
       "<Figure size 640x480 with 1 Axes>"
      ]
     },
     "metadata": {},
     "output_type": "display_data"
    }
   ],
   "source": [
    "import numpy as np\n",
    "import scipy.stats as stats\n",
    "\n",
    "mu = pyro.param(\"AutoNormal.locs.mean_temp\").item()\n",
    "scale = pyro.param(\"AutoNormal.scales.mean_temp\").item()\n",
    "x = np.linspace(mu - 3*scale, mu + 3*scale, 100)\n",
    "plt.plot(x, stats.norm.pdf(x, mu, scale), label='Posterior over $\\mu$')\n",
    "point = mle_mean_temp # Previously calculated above\n",
    "plt.plot([point, point],[0., 1.], label='MLE point estimate of $\\mu$')\n",
    "plt.legend()\n",
    "plt.show()"
   ]
  },
  {
   "cell_type": "markdown",
   "metadata": {
    "id": "1SXUdMtUL-00"
   },
   "source": [
    "<img src=\"https://github.com/PGM-Lab/probai-2021-pyro/blob/main/Day1/Figures/blue.png?raw=1\" alt=\"Drawing\" width=2000 height=20>\n",
    "\n",
    "\n",
    "### 3.3 The use of ``plate`` construct\n",
    "\n",
    "Pyro can exploit **conditional independencies and vectorization** to make inference much faster. \n",
    "\n",
    "* This can be done with the construct **``plate``**. \n",
    "\n",
    "* With this construct, we can indicate that the variables $s_i$ and $t_i$ are **conditionally indepdendent** from another variables $s_j$ and $t_j$ given $\\mu_t$. \n",
    "\n",
    "<center>\n",
    "<img src=\"https://github.com/PGM-Lab/probai-2021-pyro/blob/main/Day1/Figures/PGM-Tem-Sensor2.png?raw=1\" alt=\"Drawing\" width=\"200\">\n",
    "</center>\n"
   ]
  },
  {
   "cell_type": "code",
   "execution_count": 30,
   "metadata": {
    "id": "4LlQKqp4L-00",
    "tags": []
   },
   "outputs": [],
   "source": [
    "#The observatons   \n",
    "obs = {'sensor': torch.tensor([18., 18.7, 19.2, 17.8, 20.3, 22.4, 20.3, 21.2, 19.5, 20.1])}\n",
    "\n",
    "def model(obs):\n",
    "    mean_temp = pyro.sample('mean_temp', dist.Normal(15.0, 2.0))\n",
    "    with pyro.plate('N='+str(obs['sensor'].shape[0]), obs['sensor'].shape[0]):\n",
    "        temp = pyro.sample('temp', dist.Normal(mean_temp, 2.0))\n",
    "        sensor = pyro.sample('sensor', dist.Normal(temp, 1.0), obs=obs['sensor'])"
   ]
  },
  {
   "cell_type": "code",
   "execution_count": 31,
   "metadata": {
    "colab": {
     "base_uri": "https://localhost:8080/",
     "height": 347
    },
    "id": "qpt4TFfm4jRt",
    "outputId": "223aa37d-0574-495d-8ba4-5a0d3a62787a",
    "tags": []
   },
   "outputs": [
    {
     "data": {
      "image/svg+xml": [
       "<?xml version=\"1.0\" encoding=\"UTF-8\" standalone=\"no\"?>\n",
       "<!DOCTYPE svg PUBLIC \"-//W3C//DTD SVG 1.1//EN\"\n",
       " \"http://www.w3.org/Graphics/SVG/1.1/DTD/svg11.dtd\">\n",
       "<!-- Generated by graphviz version 2.43.0 (0)\n",
       " -->\n",
       "<!-- Title: %3 Pages: 1 -->\n",
       "<svg width=\"328pt\" height=\"244pt\"\n",
       " viewBox=\"0.00 0.00 327.84 244.00\" xmlns=\"http://www.w3.org/2000/svg\" xmlns:xlink=\"http://www.w3.org/1999/xlink\">\n",
       "<g id=\"graph0\" class=\"graph\" transform=\"scale(1 1) rotate(0) translate(4 240)\">\n",
       "<title>%3</title>\n",
       "<polygon fill=\"white\" stroke=\"transparent\" points=\"-4,4 -4,-240 323.84,-240 323.84,4 -4,4\"/>\n",
       "<g id=\"clust1\" class=\"cluster\">\n",
       "<title>cluster_N=10</title>\n",
       "<polygon fill=\"none\" stroke=\"black\" points=\"14.34,-8 14.34,-155 114.34,-155 114.34,-8 14.34,-8\"/>\n",
       "<text text-anchor=\"middle\" x=\"84.84\" y=\"-15.8\" font-family=\"Times,serif\" font-size=\"14.00\">N=10</text>\n",
       "</g>\n",
       "<!-- mean_temp -->\n",
       "<g id=\"node1\" class=\"node\">\n",
       "<title>mean_temp</title>\n",
       "<ellipse fill=\"white\" stroke=\"black\" cx=\"64.34\" cy=\"-209.5\" rx=\"64.19\" ry=\"18\"/>\n",
       "<text text-anchor=\"middle\" x=\"64.34\" y=\"-205.8\" font-family=\"Times,serif\" font-size=\"14.00\">mean_temp</text>\n",
       "</g>\n",
       "<!-- temp -->\n",
       "<g id=\"node2\" class=\"node\">\n",
       "<title>temp</title>\n",
       "<ellipse fill=\"white\" stroke=\"black\" cx=\"64.34\" cy=\"-129\" rx=\"34.39\" ry=\"18\"/>\n",
       "<text text-anchor=\"middle\" x=\"64.34\" y=\"-125.3\" font-family=\"Times,serif\" font-size=\"14.00\">temp</text>\n",
       "</g>\n",
       "<!-- mean_temp&#45;&gt;temp -->\n",
       "<g id=\"edge1\" class=\"edge\">\n",
       "<title>mean_temp&#45;&gt;temp</title>\n",
       "<path fill=\"none\" stroke=\"black\" d=\"M64.34,-191.47C64.34,-181.49 64.34,-168.65 64.34,-157.3\"/>\n",
       "<polygon fill=\"black\" stroke=\"black\" points=\"67.84,-157 64.34,-147 60.84,-157 67.84,-157\"/>\n",
       "</g>\n",
       "<!-- sensor -->\n",
       "<g id=\"node3\" class=\"node\">\n",
       "<title>sensor</title>\n",
       "<ellipse fill=\"gray\" stroke=\"black\" cx=\"64.34\" cy=\"-57\" rx=\"41.69\" ry=\"18\"/>\n",
       "<text text-anchor=\"middle\" x=\"64.34\" y=\"-53.3\" font-family=\"Times,serif\" font-size=\"14.00\">sensor</text>\n",
       "</g>\n",
       "<!-- temp&#45;&gt;sensor -->\n",
       "<g id=\"edge2\" class=\"edge\">\n",
       "<title>temp&#45;&gt;sensor</title>\n",
       "<path fill=\"none\" stroke=\"black\" d=\"M64.34,-110.7C64.34,-102.98 64.34,-93.71 64.34,-85.11\"/>\n",
       "<polygon fill=\"black\" stroke=\"black\" points=\"67.84,-85.1 64.34,-75.1 60.84,-85.1 67.84,-85.1\"/>\n",
       "</g>\n",
       "<!-- distribution_description_node -->\n",
       "<g id=\"node4\" class=\"node\">\n",
       "<title>distribution_description_node</title>\n",
       "<text text-anchor=\"start\" x=\"154.84\" y=\"-220.8\" font-family=\"Times,serif\" font-size=\"14.00\">mean_temp ~ Normal</text>\n",
       "<text text-anchor=\"start\" x=\"154.84\" y=\"-205.8\" font-family=\"Times,serif\" font-size=\"14.00\">temp ~ Normal</text>\n",
       "<text text-anchor=\"start\" x=\"154.84\" y=\"-190.8\" font-family=\"Times,serif\" font-size=\"14.00\">sensor ~ Normal</text>\n",
       "</g>\n",
       "</g>\n",
       "</svg>\n"
      ],
      "text/plain": [
       "<graphviz.graphs.Digraph at 0x7f04947cb6d0>"
      ]
     },
     "execution_count": 31,
     "metadata": {},
     "output_type": "execute_result"
    }
   ],
   "source": [
    "#Visualize the model\n",
    "pyro.render_model(model, model_args=(obs, ), render_distributions=True)"
   ]
  },
  {
   "cell_type": "markdown",
   "metadata": {
    "id": "yAh8vLjLL-00"
   },
   "source": [
    "The ``plate`` construct reflects the standard notational use in graphical models denoting the **repetition of some parts of of the graph**. \n",
    "\n",
    "We can here make a distinction between **local** and **global** random variables: \n",
    "\n",
    "* **Local random variables** caputure **specific information** about the $i$-th data sample (i.e. the real temperature at this moment in time).\n",
    "\n",
    "* **Global random variables** capture **common information** about all the data samples (i.e. the average temperature of all data samples). \n",
    "\n",
    "\n",
    "<img src=\"https://github.com/PGM-Lab/probai-2021-pyro/blob/main/Day1/Figures/blue.png?raw=1\" alt=\"Drawing\" width=2000 height=20>\n",
    "\n",
    "\n",
    "Observe how inference in this model is much **faster**. "
   ]
  },
  {
   "cell_type": "code",
   "execution_count": 32,
   "metadata": {
    "colab": {
     "base_uri": "https://localhost:8080/"
    },
    "id": "ASYtP3j0L-01",
    "outputId": "537dd372-f324-4c40-f27d-59bcba4138be",
    "tags": []
   },
   "outputs": [
    {
     "name": "stdout",
     "output_type": "stream",
     "text": [
      "Step: 0. ELBO: -2015.5951808691025\n",
      "Step: 100. ELBO: -286.36369955539703\n",
      "Step: 200. ELBO: -57.62918174266815\n",
      "Step: 300. ELBO: -25.598897576332092\n",
      "Step: 400. ELBO: -23.299971848726273\n",
      "P(mean_temp|Sensor=[18., 18.7, 19.2, 17.8, 20.3, 22.4, 20.3, 21.2, 19.5, 20.1]) =\n",
      "Normal(loc: 19.180583953857422, scale: 0.6147986650466919)\n",
      "\n",
      "1.1106410026550293 seconds\n"
     ]
    }
   ],
   "source": [
    "#Run inference\n",
    "start = time.time()\n",
    "svi(model, obs)\n",
    "\n",
    "#Print results\n",
    "print(\"P(mean_temp|Sensor=[18., 18.7, 19.2, 17.8, 20.3, 22.4, 20.3, 21.2, 19.5, 20.1]) =\")\n",
    "print(dist.Normal(pyro.param(\"AutoNormal.locs.mean_temp\").item(), pyro.param(\"AutoNormal.scales.mean_temp\").item()))\n",
    "print(\"\")\n",
    "end = time.time()\n",
    "print(f\"{(end - start)} seconds\")"
   ]
  },
  {
   "cell_type": "markdown",
   "metadata": {
    "id": "dUDwSWFsL-01"
   },
   "source": [
    "\n",
    "<img src=\"https://github.com/PGM-Lab/probai-2021-pyro/blob/main/Day1/Figures/blue.png?raw=1\" alt=\"Drawing\" width=2000 height=20>\n",
    "\n",
    "\n",
    "### **<span style=\"color:red\">Exercise 1: </span>The role of *prior distributions* in learning**\n",
    "\n",
    "In this exercise we just want to illustrate how the output of learning depends of the particular prior we introduce in the model. Play with different options and extract conclusions:\n",
    "\n",
    "1. What happens if we change the mean of the prior?\n",
    "2. What happens if we change the scale of the prior?\n",
    "3. What happens to the posterior if the number of data samples deacreases and increases?"
   ]
  },
  {
   "cell_type": "code",
   "execution_count": 33,
   "metadata": {
    "colab": {
     "base_uri": "https://localhost:8080/",
     "height": 552
    },
    "id": "5OWLg5tvL-01",
    "outputId": "5d767719-bea2-4698-db61-39baa70a1007",
    "tags": []
   },
   "outputs": [
    {
     "name": "stdout",
     "output_type": "stream",
     "text": [
      "Step: 0. ELBO: -1683.1604960107484\n",
      "Step: 100. ELBO: -244.00841712353122\n",
      "Step: 200. ELBO: -52.73818697399383\n",
      "Step: 300. ELBO: -25.346811428937727\n",
      "Step: 400. ELBO: -23.453284553107956\n",
      "P(Temperature|Sensor=18.0) = \n",
      "Normal(loc: 17.581708908081055, scale: 0.6156173944473267)\n"
     ]
    },
    {
     "data": {
      "image/png": "[encoded data removed]",
      "text/plain": [
       "<Figure size 640x480 with 1 Axes>"
      ]
     },
     "metadata": {},
     "output_type": "display_data"
    }
   ],
   "source": [
    "#The observatons   \n",
    "sample_size = 10\n",
    "obs = {'sensor': torch.tensor(np.random.normal(18,2,sample_size))}\n",
    "\n",
    "def model(obs):\n",
    "    mean_temp = pyro.sample('mean_temp', dist.Normal(15.0, 2.0))\n",
    "    with pyro.plate('N='+str(obs['sensor'].shape[0]), obs['sensor'].shape[0]):\n",
    "        temp = pyro.sample('temp', dist.Normal(mean_temp, 2.0))\n",
    "        sensor = pyro.sample('sensor', dist.Normal(temp, 1.0), obs=obs['sensor'])\n",
    "\n",
    "#Run inference\n",
    "svi(model, obs)\n",
    "\n",
    "#Print results\n",
    "print(\"P(Temperature|Sensor=18.0) = \")\n",
    "print(dist.Normal(pyro.param(\"AutoNormal.locs.mean_temp\").item(), pyro.param(\"AutoNormal.scales.mean_temp\").item()))\n",
    "\n",
    "x = np.linspace(16, 20, 100)\n",
    "plt.plot(x, stats.norm.pdf(x, pyro.param(\"AutoNormal.locs.mean_temp\").item(), pyro.param(\"AutoNormal.scales.mean_temp\").item()), label='Posterior')\n",
    "point = 18\n",
    "plt.plot([point, point],[0., 1.], label='Point Estimate')\n",
    "plt.xlim(16,20)\n",
    "plt.legend()\n",
    "plt.show()\n"
   ]
  },
  {
   "cell_type": "markdown",
   "metadata": {
    "id": "uf7kVC-hL-03"
   },
   "source": [
    "<img src=\"https://github.com/PGM-Lab/probai-2021-pyro/blob/main/Day1/Figures/blue.png?raw=1\" alt=\"Drawing\" width=2000 height=20>\n",
    "\n",
    "\n",
    "# **4.  Icecream Shop**\n",
    "\n",
    "\n",
    "We have an ice-cream shop and assume thaat we **record the ice-cream sales and the average temperature of the day** (using a temperature sensor).\n",
    "\n",
    "* We know that **temperature affects the sales** of ice-creams.\n",
    "\n",
    "* We want to **model** how temperature affects ice-cream sales.\n",
    "\n",
    "<center>\n",
    "<img src=\"https://github.com/PGM-Lab/probai-2021-pyro/raw/main/Day1/Figures/Ice-cream_shop_-_Florida.jpg\" alt=\"Drawing\" width=300 >\n",
    "</center>\n",
    "\n"
   ]
  },
  {
   "cell_type": "markdown",
   "metadata": {
    "id": "uv2fWAHxDRxO"
   },
   "source": [
    "<img src=\"https://github.com/PGM-Lab/probai-2021-pyro/blob/main/Day1/Figures/blue.png?raw=1\" alt=\"Drawing\" width=2000 height=20>\n",
    "\n",
    "* We have **observations** from temperature and sales.\n",
    "\n",
    "* Sales are modeled with a **Poisson** distribution:\n",
    "\n",
    ">- The rate of the Poisson distribution **linearly depends of the real temperature**.\n",
    "\n",
    "The figure below provides a graphical and probabilistic description of the model:\n",
    "<center>\n",
    "<img src=\"https://github.com/PGM-Lab/probai-2021-pyro/blob/main/Day1/Figures/Ice-Cream-Shop-Model.png?raw=1\" alt=\"Drawing\" width=700>\n",
    "</center>\n",
    "\n"
   ]
  },
  {
   "cell_type": "code",
   "execution_count": 34,
   "metadata": {
    "colab": {
     "base_uri": "https://localhost:8080/",
     "height": 407
    },
    "id": "HR8bu27OL-03",
    "outputId": "45e6f0d4-9a17-4d56-c079-3969df07dc53",
    "tags": []
   },
   "outputs": [
    {
     "data": {
      "image/svg+xml": [
       "<?xml version=\"1.0\" encoding=\"UTF-8\" standalone=\"no\"?>\n",
       "<!DOCTYPE svg PUBLIC \"-//W3C//DTD SVG 1.1//EN\"\n",
       " \"http://www.w3.org/Graphics/SVG/1.1/DTD/svg11.dtd\">\n",
       "<!-- Generated by graphviz version 2.43.0 (0)\n",
       " -->\n",
       "<!-- Title: %3 Pages: 1 -->\n",
       "<svg width=\"367pt\" height=\"289pt\"\n",
       " viewBox=\"0.00 0.00 366.50 289.00\" xmlns=\"http://www.w3.org/2000/svg\" xmlns:xlink=\"http://www.w3.org/1999/xlink\">\n",
       "<g id=\"graph0\" class=\"graph\" transform=\"scale(1 1) rotate(0) translate(4 285)\">\n",
       "<title>%3</title>\n",
       "<polygon fill=\"white\" stroke=\"transparent\" points=\"-4,4 -4,-285 362.5,-285 362.5,4 -4,4\"/>\n",
       "<g id=\"clust1\" class=\"cluster\">\n",
       "<title>cluster_N=10</title>\n",
       "<polygon fill=\"none\" stroke=\"black\" points=\"8,-8 8,-155 194,-155 194,-8 8,-8\"/>\n",
       "<text text-anchor=\"middle\" x=\"164.5\" y=\"-15.8\" font-family=\"Times,serif\" font-size=\"14.00\">N=10</text>\n",
       "</g>\n",
       "<!-- mean_temp -->\n",
       "<g id=\"node1\" class=\"node\">\n",
       "<title>mean_temp</title>\n",
       "<ellipse fill=\"white\" stroke=\"black\" cx=\"103\" cy=\"-232\" rx=\"64.19\" ry=\"18\"/>\n",
       "<text text-anchor=\"middle\" x=\"103\" y=\"-228.3\" font-family=\"Times,serif\" font-size=\"14.00\">mean_temp</text>\n",
       "</g>\n",
       "<!-- temp -->\n",
       "<g id=\"node4\" class=\"node\">\n",
       "<title>temp</title>\n",
       "<ellipse fill=\"white\" stroke=\"black\" cx=\"103\" cy=\"-129\" rx=\"34.39\" ry=\"18\"/>\n",
       "<text text-anchor=\"middle\" x=\"103\" y=\"-125.3\" font-family=\"Times,serif\" font-size=\"14.00\">temp</text>\n",
       "</g>\n",
       "<!-- mean_temp&#45;&gt;temp -->\n",
       "<g id=\"edge1\" class=\"edge\">\n",
       "<title>mean_temp&#45;&gt;temp</title>\n",
       "<path fill=\"none\" stroke=\"black\" d=\"M103,-213.87C103,-198.41 103,-175.42 103,-157.41\"/>\n",
       "<polygon fill=\"black\" stroke=\"black\" points=\"106.5,-157.22 103,-147.22 99.5,-157.22 106.5,-157.22\"/>\n",
       "</g>\n",
       "<!-- alpha -->\n",
       "<g id=\"node2\" class=\"node\">\n",
       "<title>alpha</title>\n",
       "<ellipse fill=\"white\" stroke=\"black\" cx=\"238\" cy=\"-129\" rx=\"36.29\" ry=\"18\"/>\n",
       "<text text-anchor=\"middle\" x=\"238\" y=\"-125.3\" font-family=\"Times,serif\" font-size=\"14.00\">alpha</text>\n",
       "</g>\n",
       "<!-- sales -->\n",
       "<g id=\"node6\" class=\"node\">\n",
       "<title>sales</title>\n",
       "<ellipse fill=\"gray\" stroke=\"black\" cx=\"152\" cy=\"-57\" rx=\"34.39\" ry=\"18\"/>\n",
       "<text text-anchor=\"middle\" x=\"152\" y=\"-53.3\" font-family=\"Times,serif\" font-size=\"14.00\">sales</text>\n",
       "</g>\n",
       "<!-- alpha&#45;&gt;sales -->\n",
       "<g id=\"edge3\" class=\"edge\">\n",
       "<title>alpha&#45;&gt;sales</title>\n",
       "<path fill=\"none\" stroke=\"black\" d=\"M219.76,-113.15C207.59,-103.25 191.41,-90.08 177.92,-79.09\"/>\n",
       "<polygon fill=\"black\" stroke=\"black\" points=\"179.88,-76.18 169.92,-72.58 175.46,-81.61 179.88,-76.18\"/>\n",
       "</g>\n",
       "<!-- beta -->\n",
       "<g id=\"node3\" class=\"node\">\n",
       "<title>beta</title>\n",
       "<ellipse fill=\"white\" stroke=\"black\" cx=\"324\" cy=\"-129\" rx=\"31.4\" ry=\"18\"/>\n",
       "<text text-anchor=\"middle\" x=\"324\" y=\"-125.3\" font-family=\"Times,serif\" font-size=\"14.00\">beta</text>\n",
       "</g>\n",
       "<!-- beta&#45;&gt;sales -->\n",
       "<g id=\"edge4\" class=\"edge\">\n",
       "<title>beta&#45;&gt;sales</title>\n",
       "<path fill=\"none\" stroke=\"black\" d=\"M299.3,-117.72C293.93,-115.49 288.28,-113.16 283,-111 250.89,-97.85 214.28,-83.05 187.93,-72.44\"/>\n",
       "<polygon fill=\"black\" stroke=\"black\" points=\"188.96,-69.08 178.37,-68.59 186.34,-75.57 188.96,-69.08\"/>\n",
       "</g>\n",
       "<!-- sensor -->\n",
       "<g id=\"node5\" class=\"node\">\n",
       "<title>sensor</title>\n",
       "<ellipse fill=\"gray\" stroke=\"black\" cx=\"58\" cy=\"-57\" rx=\"41.69\" ry=\"18\"/>\n",
       "<text text-anchor=\"middle\" x=\"58\" y=\"-53.3\" font-family=\"Times,serif\" font-size=\"14.00\">sensor</text>\n",
       "</g>\n",
       "<!-- temp&#45;&gt;sensor -->\n",
       "<g id=\"edge2\" class=\"edge\">\n",
       "<title>temp&#45;&gt;sensor</title>\n",
       "<path fill=\"none\" stroke=\"black\" d=\"M92.56,-111.76C87.13,-103.32 80.37,-92.8 74.27,-83.31\"/>\n",
       "<polygon fill=\"black\" stroke=\"black\" points=\"77.04,-81.15 68.69,-74.63 71.16,-84.94 77.04,-81.15\"/>\n",
       "</g>\n",
       "<!-- temp&#45;&gt;sales -->\n",
       "<g id=\"edge5\" class=\"edge\">\n",
       "<title>temp&#45;&gt;sales</title>\n",
       "<path fill=\"none\" stroke=\"black\" d=\"M114.36,-111.76C120.43,-103.11 128.01,-92.27 134.78,-82.6\"/>\n",
       "<polygon fill=\"black\" stroke=\"black\" points=\"137.83,-84.35 140.7,-74.15 132.09,-80.33 137.83,-84.35\"/>\n",
       "</g>\n",
       "<!-- distribution_description_node -->\n",
       "<g id=\"node7\" class=\"node\">\n",
       "<title>distribution_description_node</title>\n",
       "<text text-anchor=\"start\" x=\"193.5\" y=\"-265.8\" font-family=\"Times,serif\" font-size=\"14.00\">mean_temp ~ Normal</text>\n",
       "<text text-anchor=\"start\" x=\"193.5\" y=\"-250.8\" font-family=\"Times,serif\" font-size=\"14.00\">alpha ~ Normal</text>\n",
       "<text text-anchor=\"start\" x=\"193.5\" y=\"-235.8\" font-family=\"Times,serif\" font-size=\"14.00\">beta ~ Normal</text>\n",
       "<text text-anchor=\"start\" x=\"193.5\" y=\"-220.8\" font-family=\"Times,serif\" font-size=\"14.00\">temp ~ Normal</text>\n",
       "<text text-anchor=\"start\" x=\"193.5\" y=\"-205.8\" font-family=\"Times,serif\" font-size=\"14.00\">sensor ~ Normal</text>\n",
       "<text text-anchor=\"start\" x=\"193.5\" y=\"-190.8\" font-family=\"Times,serif\" font-size=\"14.00\">sales ~ Poisson</text>\n",
       "</g>\n",
       "</g>\n",
       "</svg>\n"
      ],
      "text/plain": [
       "<graphviz.graphs.Digraph at 0x7f049256cc10>"
      ]
     },
     "execution_count": 34,
     "metadata": {},
     "output_type": "execute_result"
    }
   ],
   "source": [
    "#The observatons   \n",
    "obs = {'sensor': torch.tensor([18., 18.7, 19.2, 17.8, 20.3, 22.4, 20.3, 21.2, 19.5, 20.1]),\n",
    "       'sales': torch.tensor([46., 47., 49., 44., 50., 54., 51., 52., 49., 53.])}\n",
    "\n",
    "def model(obs):\n",
    "    mean_temp = pyro.sample('mean_temp', dist.Normal(15.0, 2.0))\n",
    "    alpha = pyro.sample('alpha', dist.Normal(0.0, 100.0))\n",
    "    beta = pyro.sample('beta', dist.Normal(0.0, 100.0))\n",
    "\n",
    "    with pyro.plate('N='+str(obs['sensor'].shape[0]), obs['sensor'].shape[0]):\n",
    "        temp = pyro.sample('temp', dist.Normal(mean_temp, 2.0))\n",
    "        sensor = pyro.sample('sensor', dist.Normal(temp, 1.0), obs=obs['sensor'])\n",
    "        rate = torch.max(torch.tensor(0.001), alpha + beta*temp)\n",
    "        sales = pyro.sample('sales', dist.Poisson(rate), obs=obs['sales'])\n",
    "\n",
    "#Visualize the model\n",
    "pyro.render_model(model, model_args=(obs, ), render_distributions=True)"
   ]
  },
  {
   "cell_type": "markdown",
   "metadata": {
    "id": "gT34C5CpDmPZ"
   },
   "source": [
    "<img src=\"https://github.com/PGM-Lab/probai-2021-pyro/blob/main/Day1/Figures/blue.png?raw=1\" alt=\"Drawing\" width=2000 height=20>\n"
   ]
  },
  {
   "cell_type": "markdown",
   "metadata": {
    "id": "6jqw09FND19b"
   },
   "source": [
    "We again run the **(variational) inference engine** for estimating the posterior distributions.\n",
    "* With PPLs, we only care about modeling, **not about the low-level details** of the machine-learning solver.\n"
   ]
  },
  {
   "cell_type": "code",
   "execution_count": 35,
   "metadata": {
    "colab": {
     "base_uri": "https://localhost:8080/",
     "height": 1000
    },
    "id": "gmaOTBYAL-03",
    "outputId": "aeabcd69-ab74-4c2e-ae01-968ec3374049",
    "tags": []
   },
   "outputs": [
    {
     "name": "stdout",
     "output_type": "stream",
     "text": [
      "Step: 0. ELBO: -6918.239551782608\n",
      "Step: 100. ELBO: -1706.8237701654434\n",
      "Step: 200. ELBO: -1406.9381221532822\n",
      "Step: 300. ELBO: -1167.6916904449463\n",
      "Step: 400. ELBO: -969.2326797246933\n",
      "Step: 500. ELBO: -804.8422356843948\n",
      "Step: 600. ELBO: -669.4960324764252\n",
      "Step: 700. ELBO: -560.7487111091614\n",
      "Step: 800. ELBO: -474.48606383800507\n",
      "Step: 900. ELBO: -392.105703830719\n",
      "Step: 1000. ELBO: -340.65723794698715\n",
      "Step: 1100. ELBO: -280.3073881864548\n",
      "Step: 1200. ELBO: -257.10430359840393\n",
      "Step: 1300. ELBO: -207.2677457332611\n",
      "Step: 1400. ELBO: -189.91824007034302\n",
      "Step: 1500. ELBO: -164.5289442539215\n",
      "Step: 1600. ELBO: -154.52784049510956\n",
      "Step: 1700. ELBO: -126.25972032546997\n",
      "Step: 1800. ELBO: -117.71682846546173\n",
      "Step: 1900. ELBO: -112.7616286277771\n",
      "Step: 2000. ELBO: -100.08542037010193\n",
      "Step: 2100. ELBO: -98.10372483730316\n",
      "Step: 2200. ELBO: -92.16433387994766\n",
      "Step: 2300. ELBO: -80.70336645841599\n",
      "Step: 2400. ELBO: -79.52298319339752\n",
      "Step: 2500. ELBO: -71.62708246707916\n",
      "Step: 2600. ELBO: -76.57996726036072\n",
      "Step: 2700. ELBO: -68.35302633047104\n",
      "Step: 2800. ELBO: -70.64066207408905\n",
      "Step: 2900. ELBO: -64.48289161920547\n"
     ]
    },
    {
     "data": {
      "image/png": "[encoded data removed]",
      "text/plain": [
       "<Figure size 640x480 with 1 Axes>"
      ]
     },
     "metadata": {},
     "output_type": "display_data"
    },
    {
     "name": "stdout",
     "output_type": "stream",
     "text": [
      "Posterior temperature mean\n",
      "Normal(loc: 17.972440719604492, scale: 0.5351166725158691)\n",
      "\n",
      "Posterior alpha\n",
      "Normal(loc: 39.84184646606445, scale: 1.1383756399154663)\n",
      "\n",
      "Posterior beta\n",
      "Normal(loc: 0.5334271788597107, scale: 0.12256141752004623)\n"
     ]
    }
   ],
   "source": [
    "#Run inference\n",
    "svi(model, obs, num_steps = 3000, lr = 0.001, plot=True)\n",
    "\n",
    "#Print results    \n",
    "print(\"Posterior temperature mean\")\n",
    "print(dist.Normal(pyro.param(\"AutoNormal.locs.mean_temp\").item(), pyro.param(\"AutoNormal.scales.mean_temp\").item()))\n",
    "print(\"\")\n",
    "print(\"Posterior alpha\")\n",
    "print(dist.Normal(pyro.param(\"AutoNormal.locs.alpha\").item(), pyro.param(\"AutoNormal.scales.alpha\").item()))\n",
    "print(\"\")\n",
    "print(\"Posterior beta\")\n",
    "print(dist.Normal(pyro.param(\"AutoNormal.locs.beta\").item(), pyro.param(\"AutoNormal.scales.beta\").item()))\n"
   ]
  },
  {
   "cell_type": "markdown",
   "metadata": {
    "id": "4ulfx96AL-04"
   },
   "source": [
    "<img src=\"https://github.com/PGM-Lab/probai-2021-pyro/blob/main/Day1/Figures/blue.png?raw=1\" alt=\"Drawing\" width=2000 height=20>\n",
    "\n",
    "\n",
    "### <span style=\"color:red\">Exercise 2: Introduce Humidity in the Icecream shop model </span> \n",
    "* Assume that we also have a bunch of **humidity sensor measurements**.\n",
    "* Assume also that the **sales are also linearly influenced by the humidity**.\n",
    "\n",
    "**Extend the previous model** with information about humidity measurements.\n",
    "\n",
    "The figure provides a graphical and probabilistic specification of the model:\n",
    "<center>\n",
    "<img src=\"https://github.com/PGM-Lab/probai-2021-pyro/blob/main/Day1/Figures/Ice-Cream-Shop-Model-Humidity.png?raw=1\" alt=\"Drawing\" width=900>\n",
    "</center>\n",
    "\n",
    "\n"
   ]
  },
  {
   "cell_type": "code",
   "execution_count": 36,
   "metadata": {
    "colab": {
     "base_uri": "https://localhost:8080/",
     "height": 487
    },
    "id": "8UxOUxuTL-04",
    "outputId": "c8a0b4bb-c72f-412e-9002-4ea1267537fe",
    "tags": []
   },
   "outputs": [
    {
     "ename": "SyntaxError",
     "evalue": "invalid syntax (222448512.py, line 24)",
     "output_type": "error",
     "traceback": [
      "\u001b[0;36m  Cell \u001b[0;32mIn[36], line 24\u001b[0;36m\u001b[0m\n\u001b[0;31m    rate = torch.max(torch.tensor(0.001), alpha + beta*temp + ???)\u001b[0m\n\u001b[0m                                                              ^\u001b[0m\n\u001b[0;31mSyntaxError\u001b[0m\u001b[0;31m:\u001b[0m invalid syntax\n"
     ]
    }
   ],
   "source": [
    "#The observatons   \n",
    "obs = {'sensor': torch.tensor([18., 18.7, 19.2, 17.8, 20.3, 22.4, 20.3, 21.2, 19.5, 20.1]),\n",
    "       'sales': torch.tensor([46., 47., 49., 44., 50., 54., 51., 52., 49., 53.]),\n",
    "       'sensor_humidity': torch.tensor([82.8, 87.6, 69.1, 74.2, 80.3, 94.2, 91.2, 92.2, 99.1, 93.2])}\n",
    "\n",
    "\n",
    "def model(obs):\n",
    "    mean_temp = pyro.sample('mean_temp', dist.Normal(15.0, 2.0))\n",
    "    ## Introduce a random variable \"mean_humidity\"\n",
    "    mean_humidity = pyro.sample('mean_humidity', dist.Normal(80.0, 5.0))\n",
    "\n",
    "    alpha = pyro.sample('alpha', dist.Normal(0.0, 100.0))\n",
    "    beta = pyro.sample('beta', dist.Normal(0.0, 100.0))\n",
    "    \n",
    "    ## Introduce a coefficient for the humidity \"gamma\" following a Normal distribution\n",
    "\n",
    "    with pyro.plate('N='+str(obs['sensor'].shape[0]), obs['sensor'].shape[0]):\n",
    "        temp = pyro.sample('temp', dist.Normal(mean_temp, 2.0))\n",
    "        sensor = pyro.sample('sensor', dist.Normal(temp, 1.0), obs=obs['sensor'])\n",
    "        #Add the 'humidity' variable and the 'sensor_humidity' variable. The distributions are Normal with fixed variance, but the mean parameter depends on the previously defined random variables. Look at the graph below for help. \n",
    "\n",
    "\n",
    "        #Add the linear dependency for the rate with respect to temp and humidity (keep torch.max to avoid numerical stability issues)\n",
    "        rate = torch.max(torch.tensor(0.001), alpha + beta*temp + ???)\n",
    "        sales = pyro.sample('sales', dist.Poisson(rate), obs=obs['sales'])\n",
    "\n",
    "#Visualize the model\n",
    "pyro.render_model(model, model_args=(obs, ), render_distributions=True)"
   ]
  },
  {
   "cell_type": "markdown",
   "metadata": {
    "id": "wC7ceQTkHrrg"
   },
   "source": [
    "<img src=\"https://github.com/PGM-Lab/probai-2021-pyro/blob/main/Day1/Figures/blue.png?raw=1\" alt=\"Drawing\" width=2000 height=20>\n",
    "\n",
    "Again, we rely on the **(variational) inference engine** to get the results.\n"
   ]
  },
  {
   "cell_type": "code",
   "execution_count": null,
   "metadata": {
    "colab": {
     "base_uri": "https://localhost:8080/"
    },
    "id": "Du3hyC0j16tM",
    "outputId": "0f60d116-da83-4dd3-ecc7-0fd9dfeb3751",
    "tags": []
   },
   "outputs": [],
   "source": [
    "#Run inference\n",
    "svi(model, obs, num_steps=3000, lr=0.001)\n",
    "\n",
    "#Print results    \n",
    "print(\"Posterior temperature mean\")\n",
    "print(dist.Normal(pyro.param(\"AutoNormal.locs.mean_temp\").item(), pyro.param(\"AutoNormal.scales.mean_temp\").item()))\n",
    "print(\"\")\n",
    "print(\"Posterior Humidity Mean\")\n",
    "print(dist.Normal(pyro.param(\"AutoNormal.locs.mean_humidity\").item(), pyro.param(\"AutoNormal.scales.mean_humidity\").item()))\n",
    "print(\"\")\n",
    "print(\"Posterior alpha\")\n",
    "print(dist.Normal(pyro.param(\"AutoNormal.locs.alpha\").item(), pyro.param(\"AutoNormal.scales.alpha\").item()))\n",
    "print(\"\")\n",
    "print(\"Posterior beta\")\n",
    "print(dist.Normal(pyro.param(\"AutoNormal.locs.beta\").item(), pyro.param(\"AutoNormal.scales.beta\").item()))\n",
    "print(\"\")\n",
    "print(\"Posterior Gamma\")\n",
    "print(dist.Normal(pyro.param(\"AutoNormal.locs.gamma\").item(), pyro.param(\"AutoNormal.scales.gamma\").item()))\n"
   ]
  },
  {
   "cell_type": "markdown",
   "metadata": {
    "id": "NCld6GJGL-05"
   },
   "source": [
    "<img src=\"https://github.com/PGM-Lab/probai-2021-pyro/blob/main/Day1/Figures/blue.png?raw=1\" alt=\"Drawing\" width=2000 height=20>\n",
    "\n",
    "# 5.  **Temporal Models**\n",
    "\n",
    "If we believe there is a temporal dependency between the variables, we can also encode this in the model. \n",
    "\n",
    "* E.g. the current **real temperature must be similar to the real temperature in the previous time step**.\n",
    "\n",
    "* This temporal dependency can **be modeled** using a **for-loop** in Pyro\n",
    "\n",
    "Consider the **graphical representation**.\n",
    "\n",
    "\n",
    "<img src=\"https://github.com/PGM-Lab/probai-2021-pyro/raw/main/Day1/Figures/tempmodel-temporal-III.png\" alt=\"Drawing\" style=\"width: 350px;\" >\n",
    "\n"
   ]
  },
  {
   "cell_type": "code",
   "execution_count": null,
   "metadata": {
    "colab": {
     "base_uri": "https://localhost:8080/",
     "height": 1000
    },
    "id": "dSzU0cWeL-05",
    "outputId": "d68ae556-f314-4f4c-9c0b-ff849ae59a73",
    "tags": []
   },
   "outputs": [],
   "source": [
    "#The observatons   \n",
    "obs = {'sensor': torch.tensor([18., 18.7, 19.2, 17.8, 20.3, 22.4, 20.3, 21.2, 19.5, 20.1])}\n",
    "\n",
    "def model(obs):\n",
    "    mean_temp = pyro.sample('mean_temp', dist.Normal(15.0, 2.0))\n",
    "    for i in range(obs['sensor'].shape[0]):\n",
    "        if i==0:\n",
    "            temp = pyro.sample(f'temp_{i}', dist.Normal(mean_temp, 2.0))\n",
    "        else:\n",
    "            temp = pyro.sample(f'temp_{i}', dist.Normal(prev_temp, 2.0))\n",
    "        sensor = pyro.sample(f'sensor_{i}', dist.Normal(temp, 1.0), obs=obs['sensor'][i])\n",
    "        prev_temp = temp\n",
    "\n",
    "#Visualize the model\n",
    "pyro.render_model(model, model_args=(obs, ))"
   ]
  },
  {
   "cell_type": "markdown",
   "metadata": {
    "id": "EAnXvUqpJCm1"
   },
   "source": [
    "<img src=\"https://github.com/PGM-Lab/probai-2021-pyro/blob/main/Day1/Figures/blue.png?raw=1\" alt=\"Drawing\" width=2000 height=20>\n",
    "\n",
    "Again, we rely on the **(variational) inference engine** to get the results."
   ]
  },
  {
   "cell_type": "code",
   "execution_count": null,
   "metadata": {
    "cellView": "form",
    "id": "7XaW4rKXL-05"
   },
   "outputs": [],
   "source": [
    "#@title\n",
    "#Define the guide\n",
    "def guide(obs):\n",
    "    mean = pyro.param(\"mean\", torch.mean(obs['sensor']))\n",
    "    scale = pyro.param(\"scale\", torch.tensor(1.), constraint=constraints.positive)\n",
    "    mean_temp = pyro.sample('mean_temp', dist.Normal(mean, scale))\n",
    "    for i in range(obs['sensor'].shape[0]):\n",
    "        mean_i = pyro.param(f'mean_{i}', obs['sensor'][i])\n",
    "        scale_i = pyro.param(f'scale_{i}', torch.tensor(1.), constraint=constraints.positive)\n",
    "        temp = pyro.sample(f'temp_{i}', dist.Normal(mean_i, scale_i))"
   ]
  },
  {
   "cell_type": "code",
   "execution_count": null,
   "metadata": {
    "colab": {
     "base_uri": "https://localhost:8080/"
    },
    "id": "MWWVKOZnWccI",
    "outputId": "63c33164-005f-4e55-9dc0-a91ed0dc069d"
   },
   "outputs": [],
   "source": [
    "import time\n",
    "        \n",
    "#Run inference\n",
    "svi(model, obs, guide)\n",
    "\n",
    "smooth_temp=[]\n",
    "for i in range(obs['sensor'].shape[0]):\n",
    "    smooth_temp.append(pyro.param(f'mean_{i}').item())\n",
    "\n",
    "print('Finished')"
   ]
  },
  {
   "cell_type": "markdown",
   "metadata": {
    "id": "OJHqOj3VL-06"
   },
   "source": [
    "We can now plot the **observered measurements** of the temperature **against** the inferred **real temperature**.\n",
    "\n",
    "* By querying the **local hidden** we can **smooth** the temperature.\n",
    "\n",
    "* The **recovered temperature** is much less noisy than the measured one. "
   ]
  },
  {
   "cell_type": "code",
   "execution_count": null,
   "metadata": {
    "colab": {
     "base_uri": "https://localhost:8080/",
     "height": 447
    },
    "id": "cesOfH6UL-06",
    "outputId": "5ea496d9-56c1-4ca0-e89a-f9490c70c208"
   },
   "outputs": [],
   "source": [
    "import matplotlib.pyplot as plt\n",
    "plt.plot([18., 18.7, 19.2, 17.8, 20.3, 22.4, 20.3, 21.2, 19.5, 20.1], label='Sensor Temp')\n",
    "plt.plot(smooth_temp, label='Smooth Temp')\n",
    "plt.legend()"
   ]
  },
  {
   "cell_type": "markdown",
   "metadata": {
    "id": "yRDQWC-vL-06"
   },
   "source": [
    "<img src=\"https://github.com/PGM-Lab/probai-2021-pyro/blob/main/Day1/Figures/blue.png?raw=1\" alt=\"Drawing\" width=2000 height=20>\n",
    "\n",
    "### <span style=\"color:red\">Exercise 3:  Temporal Extension of the Iceacream shop model </span> \n",
    "\n",
    "This exercise **extends** Excersise 2.\n",
    "* Assume temperature depends of the **temperature in the previous day**.\n",
    "* Assume humidity depends of the **humidity in the previous day**.\n",
    "* Assume sales depends on the **current temperature and humidity**.\n",
    "* Use the **graphical representation below for reference**.\n",
    "\n",
    "N.b. The plate representation has to be impemented in Pyro using a **``for-loop``**.\n",
    "<img src=\"https://github.com/PGM-Lab/probai-2021-pyro/raw/main/Day1/Figures/icecream-model-temporal.png\" alt=\"Drawing\" width=700 >\n",
    "\n",
    "\n"
   ]
  },
  {
   "cell_type": "code",
   "execution_count": null,
   "metadata": {
    "id": "GevI9bcjL-07",
    "tags": []
   },
   "outputs": [],
   "source": [
    "#The observatons   \n",
    "obs = {'sensor': torch.tensor([18., 18.7, 19.2, 17.8, 20.3, 22.4, 20.3, 21.2, 19.5, 20.1]),\n",
    "       'sales': torch.tensor([46., 47., 49., 44., 50., 54., 51., 52., 49., 53.]),\n",
    "       'sensor_humidity': torch.tensor([82.8, 87.6, 69.1, 74.2, 80.3, 94.2, 91.2, 92.2, 99.1, 93.2])}\n",
    "\n",
    "\n",
    "\n",
    "def model(obs):\n",
    "    mean_temp = pyro.sample('mean_temp', dist.Normal(15.0, 2.0))\n",
    "    ## Introduce a random variable \"mean_humidity\"\n",
    "    mean_humidity = pyro.sample('mean_humidity', dist.Normal(8.0, 2.0))\n",
    "\n",
    "\n",
    "    alpha = pyro.sample('alpha', dist.Normal(0.0, 100.0))\n",
    "    beta = pyro.sample('beta', dist.Normal(0.0, 100.0))\n",
    "    ## Introduce a coefficient for the humidity \"gamma\"\n",
    "    gamma = pyro.sample('gamma', dist.Normal(0.0, 100.0))\n",
    "\n",
    "    for i in range(obs['sensor'].shape[0]):\n",
    "        if i==0:\n",
    "            temp = pyro.sample(f'temp_{i}', dist.Normal(mean_temp, 2.0))\n",
    "            #Introduce the 'humidity' variable at time 0.\n",
    "\n",
    "        else:\n",
    "            temp = pyro.sample(f'temp_{i}', dist.Normal(prev_temp, 2.0))\n",
    "            #Introduce the f'humidity_{i}' variable defining the transition\n",
    "            \n",
    "        sensor = pyro.sample(f'sensor_{i}', dist.Normal(temp, 1.0), obs=obs['sensor'][i])\n",
    "\n",
    "        #Introduce the f'sensor_humidity_{i}' variable. \n",
    "        \n",
    "        #Add the linear dependency for the rate with respect to temp and humidity (keep torch.max to avoid numerical stability issues)\n",
    "        rate = torch.max(torch.tensor(0.01),alpha + beta*temp + ????)\n",
    "        sales = pyro.sample(f'sales_{i}', dist.Poisson(rate), obs=obs['sales'][i])\n",
    "\n",
    "        prev_temp = temp\n",
    "        #Keep humidity for the next time step. \n",
    "        prev_humidity = humidity\n"
   ]
  },
  {
   "cell_type": "markdown",
   "metadata": {
    "id": "BOo487l4L3L1"
   },
   "source": [
    "<img src=\"https://github.com/PGM-Lab/probai-2021-pyro/blob/main/Day1/Figures/blue.png?raw=1\" alt=\"Drawing\" width=2000 height=20>\n",
    "\n",
    "Again, we rely on the **(variational) inference engine** to get the results."
   ]
  },
  {
   "cell_type": "code",
   "execution_count": null,
   "metadata": {
    "cellView": "form",
    "id": "izRFQ0T3L-07"
   },
   "outputs": [],
   "source": [
    "#@title\n",
    "#Define the guide\n",
    "def guide(obs):\n",
    "    mean = pyro.param(\"mean\", torch.mean(obs['sensor']))\n",
    "    scale = pyro.param(\"scale\", torch.tensor(1.), constraint=constraints.greater_than(0.01))\n",
    "    mean_temp = pyro.sample('mean_temp', dist.Normal(mean, scale))\n",
    "\n",
    "    meanH = pyro.param(\"meanH\", torch.mean(obs['sensor_humidity']), constraint=constraints.positive)\n",
    "    scaleH = pyro.param(\"scaleH\", torch.tensor(1.), constraint=constraints.greater_than(0.01))\n",
    "    humidity_mean = pyro.sample('mean_humidity', dist.Normal(meanH, scaleH))\n",
    "\n",
    "\n",
    "    alpha_mean = pyro.param(\"alpha_mean\", torch.mean(obs['sensor']))\n",
    "    alpha_scale = pyro.param(\"alpha_scale\", torch.tensor(1.), constraint=constraints.greater_than(0.01))\n",
    "    alpha = pyro.sample('alpha', dist.Normal(alpha_mean, alpha_scale))\n",
    "\n",
    "    beta_mean = pyro.param(\"beta_mean\", torch.tensor(0.0))\n",
    "    beta_scale = pyro.param(\"beta_scale\", torch.tensor(1.), constraint=constraints.greater_than(0.01))\n",
    "    beta = pyro.sample('beta', dist.Normal(beta_mean, beta_scale))\n",
    "\n",
    "    gamma_mean = pyro.param(\"gamma_mean\", torch.tensor(0.0))\n",
    "    gamma_scale = pyro.param(\"gamma_scale\", torch.tensor(1.), constraint=constraints.greater_than(0.01))\n",
    "    gamma = pyro.sample('gamma', dist.Normal(gamma_mean, gamma_scale))\n",
    "\n",
    "    for i in range(obs['sensor'].shape[0]):\n",
    "        mean_i = pyro.param(f'mean_{i}', obs['sensor'][i])\n",
    "        scale_i = pyro.param(f'scale_{i}', torch.tensor(1.), constraint=constraints.greater_than(0.01))\n",
    "        temp = pyro.sample(f'temp_{i}', dist.Normal(mean_i, scale_i))\n",
    "        meanH_i = pyro.param(f'meanH_{i}', obs['sensor_humidity'][i])\n",
    "        scaleH_i = pyro.param(f'scaleH_{i}', torch.tensor(1.), constraint=constraints.greater_than(0.01))\n",
    "        humidity_i = pyro.sample(f'humidity_{i}', dist.Normal(meanH_i, scaleH_i))"
   ]
  },
  {
   "cell_type": "code",
   "execution_count": null,
   "metadata": {
    "colab": {
     "base_uri": "https://localhost:8080/"
    },
    "id": "tMWwy2UNL-07",
    "outputId": "000c1b77-634e-4a00-ae8e-3638051d1eac"
   },
   "outputs": [],
   "source": [
    "import time\n",
    "        \n",
    "#Run inference\n",
    "svi(model, obs, guide=guide, num_steps = 1000, lr=0.001)\n",
    "\n",
    "smooth_temp=[]\n",
    "smooth_humidity=[]\n",
    "\n",
    "for i in range(obs['sensor'].shape[0]):\n",
    "    smooth_temp.append(pyro.param(f'mean_{i}').item())\n",
    "    smooth_humidity.append(pyro.param(f'meanH_{i}').item())\n",
    "\n",
    "print('Finished')"
   ]
  },
  {
   "cell_type": "markdown",
   "metadata": {
    "id": "LosM2wXBMAFX"
   },
   "source": [
    "<img src=\"https://github.com/PGM-Lab/probai-2021-pyro/blob/main/Day1/Figures/blue.png?raw=1\" alt=\"Drawing\" width=2000 height=20>\n",
    "\n",
    "* We can plot the observered measurements of the temperature against the **inferred real temperature** by our model. \n",
    "\n",
    "* The **recovered temperature** is much less noisy than the real one.\n"
   ]
  },
  {
   "cell_type": "code",
   "execution_count": null,
   "metadata": {
    "colab": {
     "base_uri": "https://localhost:8080/",
     "height": 447
    },
    "id": "7kr1dbx-L-07",
    "outputId": "4bcdef86-c5e8-4d18-f796-760183aec6d8"
   },
   "outputs": [],
   "source": [
    "plt.plot([18., 18.7, 19.2, 17.8, 20.3, 22.4, 20.3, 21.2, 19.5, 20.1], label='Sensor Temp')\n",
    "plt.plot(smooth_temp, label='Smooth Temp')\n",
    "plt.legend()"
   ]
  },
  {
   "cell_type": "markdown",
   "metadata": {
    "id": "QStTTd9nN56M"
   },
   "source": [
    "---\n",
    "* We can plot the observered measurements of the humidity against the **inferred real humidity** by our model. \n",
    "\n",
    "* The **recovered humidity** is much less noisy than the real one.\n",
    "\n",
    "---\n"
   ]
  },
  {
   "cell_type": "code",
   "execution_count": null,
   "metadata": {
    "colab": {
     "base_uri": "https://localhost:8080/",
     "height": 447
    },
    "id": "WD7n3v9oL-08",
    "outputId": "092237ea-0e5f-4844-d61a-c864a651f5b8"
   },
   "outputs": [],
   "source": [
    "humidity = torch.tensor([82.8, 87.6, 69.1, 74.2, 80.3, 94.2, 91.2, 92.2, 99.1, 93.2])\n",
    "plt.plot(humidity.detach().numpy(), label='Sensor Humidity')\n",
    "plt.plot(smooth_humidity, label='Smooth Humidity')\n",
    "plt.legend()"
   ]
  },
  {
   "cell_type": "markdown",
   "metadata": {
    "id": "858lPsjJOTJd"
   },
   "source": [
    "<img src=\"https://github.com/PGM-Lab/probai-2021-pyro/blob/main/Day1/Figures/blue.png?raw=1\" alt=\"Drawing\" width=2000 height=20>\n"
   ]
  }
 ],
 "metadata": {
  "colab": {
   "include_colab_link": true,
   "provenance": [],
   "toc_visible": true
  },
  "kernelspec": {
   "display_name": "Python 3 (ipykernel)",
   "language": "python",
   "name": "python3"
  },
  "language_info": {
   "codemirror_mode": {
    "name": "ipython",
    "version": 3
   },
   "file_extension": ".py",
   "mimetype": "text/x-python",
   "name": "python",
   "nbconvert_exporter": "python",
   "pygments_lexer": "ipython3",
   "version": "3.11.9"
  }
 },
 "nbformat": 4,
 "nbformat_minor": 4
}
